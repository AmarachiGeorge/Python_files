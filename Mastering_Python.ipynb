{
 "cells": [
  {
   "cell_type": "markdown",
   "id": "90d5a52b",
   "metadata": {},
   "source": [
    "# Starting Python"
   ]
  },
  {
   "cell_type": "code",
   "execution_count": 1,
   "id": "b1a4efb2",
   "metadata": {},
   "outputs": [
    {
     "name": "stdout",
     "output_type": "stream",
     "text": [
      "Hello World\n"
     ]
    }
   ],
   "source": [
    "print(\"Hello World\")"
   ]
  },
  {
   "cell_type": "markdown",
   "id": "d76dd2bc",
   "metadata": {},
   "source": [
    "$a=b$"
   ]
  },
  {
   "cell_type": "markdown",
   "id": "033b6051",
   "metadata": {},
   "source": [
    "# Variables"
   ]
  },
  {
   "cell_type": "code",
   "execution_count": 2,
   "id": "1105e77c",
   "metadata": {},
   "outputs": [],
   "source": [
    "x = 3"
   ]
  },
  {
   "cell_type": "code",
   "execution_count": 3,
   "id": "9c67dd91",
   "metadata": {},
   "outputs": [
    {
     "name": "stdout",
     "output_type": "stream",
     "text": [
      "<class 'int'>\n"
     ]
    }
   ],
   "source": [
    "print(type(x))"
   ]
  },
  {
   "cell_type": "code",
   "execution_count": 4,
   "id": "613d9aa6",
   "metadata": {},
   "outputs": [],
   "source": [
    "y = 4.2"
   ]
  },
  {
   "cell_type": "code",
   "execution_count": 5,
   "id": "2ce2fbd6",
   "metadata": {},
   "outputs": [],
   "source": [
    "v=\"4\""
   ]
  },
  {
   "cell_type": "code",
   "execution_count": 8,
   "id": "c8d56069",
   "metadata": {},
   "outputs": [],
   "source": [
    "a,b,c,d = 1,2, 3.4,5.6"
   ]
  },
  {
   "cell_type": "code",
   "execution_count": 14,
   "id": "f2c184fd",
   "metadata": {},
   "outputs": [],
   "source": [
    "abcd=54"
   ]
  },
  {
   "cell_type": "code",
   "execution_count": 15,
   "id": "d71a6370",
   "metadata": {},
   "outputs": [],
   "source": [
    "c = 2+4j"
   ]
  },
  {
   "cell_type": "code",
   "execution_count": 16,
   "id": "83769302",
   "metadata": {},
   "outputs": [
    {
     "name": "stdout",
     "output_type": "stream",
     "text": [
      "Variable   Type       Data/Info\n",
      "-------------------------------\n",
      "abcd       int        54\n",
      "c          complex    (2+4j)\n",
      "v          str        4\n",
      "x          int        3\n",
      "y          float      4.2\n"
     ]
    }
   ],
   "source": [
    "%whos"
   ]
  },
  {
   "cell_type": "code",
   "execution_count": 17,
   "id": "998d64bd",
   "metadata": {},
   "outputs": [],
   "source": [
    "del abcd"
   ]
  },
  {
   "cell_type": "code",
   "execution_count": 19,
   "id": "1f156e33",
   "metadata": {},
   "outputs": [
    {
     "name": "stdout",
     "output_type": "stream",
     "text": [
      "Variable   Type       Data/Info\n",
      "-------------------------------\n",
      "c          complex    (2+4j)\n",
      "v          str        4\n",
      "x          int        3\n",
      "y          float      4.2\n"
     ]
    }
   ],
   "source": [
    "%whos"
   ]
  },
  {
   "cell_type": "markdown",
   "id": "f97ccb4b",
   "metadata": {},
   "source": [
    "# Operators"
   ]
  },
  {
   "cell_type": "code",
   "execution_count": 29,
   "id": "a5a0a631",
   "metadata": {},
   "outputs": [],
   "source": [
    "sumOfxAndy = x+y"
   ]
  },
  {
   "cell_type": "code",
   "execution_count": 30,
   "id": "1dca2ee0",
   "metadata": {},
   "outputs": [
    {
     "name": "stdout",
     "output_type": "stream",
     "text": [
      "7.2\n"
     ]
    }
   ],
   "source": [
    "print(sumOfxAndy)"
   ]
  },
  {
   "cell_type": "code",
   "execution_count": 32,
   "id": "8c2cca68",
   "metadata": {},
   "outputs": [
    {
     "data": {
      "text/plain": [
       "float"
      ]
     },
     "execution_count": 32,
     "metadata": {},
     "output_type": "execute_result"
    }
   ],
   "source": [
    "type(x+y)"
   ]
  },
  {
   "cell_type": "code",
   "execution_count": 35,
   "id": "c0b4fabf",
   "metadata": {},
   "outputs": [],
   "source": [
    "a = 3"
   ]
  },
  {
   "cell_type": "code",
   "execution_count": 36,
   "id": "2a1bbb48",
   "metadata": {},
   "outputs": [
    {
     "name": "stdout",
     "output_type": "stream",
     "text": [
      "<class 'int'>\n"
     ]
    }
   ],
   "source": [
    "print(type(a))"
   ]
  },
  {
   "cell_type": "code",
   "execution_count": 37,
   "id": "ca1a672e",
   "metadata": {},
   "outputs": [],
   "source": [
    "b = 2"
   ]
  },
  {
   "cell_type": "code",
   "execution_count": 38,
   "id": "63c6bae3",
   "metadata": {},
   "outputs": [
    {
     "name": "stdout",
     "output_type": "stream",
     "text": [
      "<class 'int'>\n"
     ]
    }
   ],
   "source": [
    "print(type(b))"
   ]
  },
  {
   "cell_type": "code",
   "execution_count": 41,
   "id": "323734f9",
   "metadata": {},
   "outputs": [],
   "source": [
    "q = (a+b)/2**3"
   ]
  },
  {
   "cell_type": "code",
   "execution_count": 42,
   "id": "85b0ca18",
   "metadata": {},
   "outputs": [
    {
     "name": "stdout",
     "output_type": "stream",
     "text": [
      "0.625\n"
     ]
    }
   ],
   "source": [
    "print(q)"
   ]
  },
  {
   "cell_type": "code",
   "execution_count": 43,
   "id": "c6204080",
   "metadata": {},
   "outputs": [
    {
     "name": "stdout",
     "output_type": "stream",
     "text": [
      "helloWorld\n"
     ]
    }
   ],
   "source": [
    "s1 = \"hello\"\n",
    "s2 =\"World\"\n",
    "s = s1+s2\n",
    "print(s)"
   ]
  },
  {
   "cell_type": "code",
   "execution_count": 44,
   "id": "68170de4",
   "metadata": {},
   "outputs": [
    {
     "data": {
      "text/plain": [
       "3"
      ]
     },
     "execution_count": 44,
     "metadata": {},
     "output_type": "execute_result"
    }
   ],
   "source": [
    "10//3"
   ]
  },
  {
   "cell_type": "code",
   "execution_count": 45,
   "id": "1b26c7e2",
   "metadata": {},
   "outputs": [
    {
     "data": {
      "text/plain": [
       "3.3333333333333335"
      ]
     },
     "execution_count": 45,
     "metadata": {},
     "output_type": "execute_result"
    }
   ],
   "source": [
    "10/3"
   ]
  },
  {
   "cell_type": "code",
   "execution_count": 46,
   "id": "756a879c",
   "metadata": {},
   "outputs": [
    {
     "data": {
      "text/plain": [
       "6"
      ]
     },
     "execution_count": 46,
     "metadata": {},
     "output_type": "execute_result"
    }
   ],
   "source": [
    "2*3"
   ]
  },
  {
   "cell_type": "code",
   "execution_count": 47,
   "id": "05f96e73",
   "metadata": {},
   "outputs": [
    {
     "data": {
      "text/plain": [
       "2"
      ]
     },
     "execution_count": 47,
     "metadata": {},
     "output_type": "execute_result"
    }
   ],
   "source": [
    "17%5"
   ]
  },
  {
   "cell_type": "code",
   "execution_count": 4,
   "id": "96a4bd3a",
   "metadata": {},
   "outputs": [],
   "source": [
    "_e = 6"
   ]
  },
  {
   "cell_type": "code",
   "execution_count": 5,
   "id": "1e6cb3e4",
   "metadata": {},
   "outputs": [],
   "source": [
    "startingTimeOfACourse = 2.4"
   ]
  },
  {
   "cell_type": "code",
   "execution_count": 7,
   "id": "87bafc8b",
   "metadata": {},
   "outputs": [
    {
     "name": "stdout",
     "output_type": "stream",
     "text": [
      "Variable                Type     Data/Info\n",
      "------------------------------------------\n",
      "startingTimeOfACourse   float    2.4\n"
     ]
    }
   ],
   "source": [
    "%whos"
   ]
  },
  {
   "cell_type": "markdown",
   "id": "8b377f77",
   "metadata": {},
   "source": [
    "# Bool"
   ]
  },
  {
   "cell_type": "code",
   "execution_count": 9,
   "id": "1045a225",
   "metadata": {},
   "outputs": [],
   "source": [
    "a = True\n",
    "\n",
    "b= False\n",
    "\n",
    "c = True"
   ]
  },
  {
   "cell_type": "code",
   "execution_count": 10,
   "id": "0f6e3a7f",
   "metadata": {},
   "outputs": [
    {
     "name": "stdout",
     "output_type": "stream",
     "text": [
      "Variable                Type     Data/Info\n",
      "------------------------------------------\n",
      "a                       bool     True\n",
      "b                       bool     False\n",
      "c                       bool     True\n",
      "startingTimeOfACourse   float    2.4\n"
     ]
    }
   ],
   "source": [
    "%whos"
   ]
  },
  {
   "cell_type": "code",
   "execution_count": 11,
   "id": "b00a4737",
   "metadata": {},
   "outputs": [
    {
     "name": "stdout",
     "output_type": "stream",
     "text": [
      "False\n",
      "True\n",
      "False\n"
     ]
    }
   ],
   "source": [
    "print(a and b)\n",
    "print(c and a)\n",
    "print(b and c)"
   ]
  },
  {
   "cell_type": "code",
   "execution_count": 12,
   "id": "54f648da",
   "metadata": {},
   "outputs": [
    {
     "name": "stdout",
     "output_type": "stream",
     "text": [
      "True\n"
     ]
    }
   ],
   "source": [
    "d = a or c\n",
    "print(d)"
   ]
  },
  {
   "cell_type": "code",
   "execution_count": 13,
   "id": "89e8c0f0",
   "metadata": {},
   "outputs": [
    {
     "data": {
      "text/plain": [
       "False"
      ]
     },
     "execution_count": 13,
     "metadata": {},
     "output_type": "execute_result"
    }
   ],
   "source": [
    "not(a)"
   ]
  },
  {
   "cell_type": "code",
   "execution_count": 14,
   "id": "d105fb4a",
   "metadata": {},
   "outputs": [
    {
     "data": {
      "text/plain": [
       "True"
      ]
     },
     "execution_count": 14,
     "metadata": {},
     "output_type": "execute_result"
    }
   ],
   "source": [
    "not(b)"
   ]
  },
  {
   "cell_type": "code",
   "execution_count": 15,
   "id": "8d27392c",
   "metadata": {},
   "outputs": [
    {
     "data": {
      "text/plain": [
       "False"
      ]
     },
     "execution_count": 15,
     "metadata": {},
     "output_type": "execute_result"
    }
   ],
   "source": [
    "not(c)"
   ]
  },
  {
   "cell_type": "code",
   "execution_count": 16,
   "id": "506fc9be",
   "metadata": {},
   "outputs": [],
   "source": [
    "p =not(d)"
   ]
  },
  {
   "cell_type": "code",
   "execution_count": 17,
   "id": "b0fd4c0e",
   "metadata": {},
   "outputs": [
    {
     "name": "stdout",
     "output_type": "stream",
     "text": [
      "<class 'bool'>\n"
     ]
    }
   ],
   "source": [
    "print(type(p))"
   ]
  },
  {
   "cell_type": "code",
   "execution_count": 20,
   "id": "896d5f22",
   "metadata": {},
   "outputs": [
    {
     "data": {
      "text/plain": [
       "True"
      ]
     },
     "execution_count": 20,
     "metadata": {},
     "output_type": "execute_result"
    }
   ],
   "source": [
    "not(p)"
   ]
  },
  {
   "cell_type": "code",
   "execution_count": 21,
   "id": "440bab8e",
   "metadata": {},
   "outputs": [
    {
     "name": "stdout",
     "output_type": "stream",
     "text": [
      "False\n"
     ]
    }
   ],
   "source": [
    "print(p)"
   ]
  },
  {
   "cell_type": "code",
   "execution_count": 22,
   "id": "f02eed30",
   "metadata": {},
   "outputs": [
    {
     "data": {
      "text/plain": [
       "True"
      ]
     },
     "execution_count": 22,
     "metadata": {},
     "output_type": "execute_result"
    }
   ],
   "source": [
    "not(a and b) or (c and d)"
   ]
  },
  {
   "cell_type": "markdown",
   "id": "86a015b0",
   "metadata": {},
   "source": [
    "# Comparison"
   ]
  },
  {
   "cell_type": "code",
   "execution_count": 23,
   "id": "54a10005",
   "metadata": {},
   "outputs": [
    {
     "name": "stdout",
     "output_type": "stream",
     "text": [
      "True\n"
     ]
    }
   ],
   "source": [
    "print(2<3)"
   ]
  },
  {
   "cell_type": "code",
   "execution_count": 26,
   "id": "82ea6e89",
   "metadata": {},
   "outputs": [
    {
     "name": "stdout",
     "output_type": "stream",
     "text": [
      "<class 'bool'>\n",
      "True\n"
     ]
    }
   ],
   "source": [
    "c = 3<5\n",
    "print(type(c))\n",
    "print(c)"
   ]
  },
  {
   "cell_type": "code",
   "execution_count": 27,
   "id": "ab1c6a45",
   "metadata": {},
   "outputs": [
    {
     "data": {
      "text/plain": [
       "False"
      ]
     },
     "execution_count": 27,
     "metadata": {},
     "output_type": "execute_result"
    }
   ],
   "source": [
    "3 ==5"
   ]
  },
  {
   "cell_type": "code",
   "execution_count": 30,
   "id": "8c493fed",
   "metadata": {},
   "outputs": [
    {
     "name": "stdout",
     "output_type": "stream",
     "text": [
      "<class 'bool'>\n",
      "True\n"
     ]
    }
   ],
   "source": [
    "d = 3==3.0\n",
    "print(type(d))\n",
    "print(d)"
   ]
  },
  {
   "cell_type": "code",
   "execution_count": 31,
   "id": "e6018658",
   "metadata": {},
   "outputs": [],
   "source": [
    "x = 4\n",
    "y = 5\n",
    "z = 6"
   ]
  },
  {
   "cell_type": "code",
   "execution_count": 34,
   "id": "040bbf2b",
   "metadata": {},
   "outputs": [
    {
     "data": {
      "text/plain": [
       "True"
      ]
     },
     "execution_count": 34,
     "metadata": {},
     "output_type": "execute_result"
    }
   ],
   "source": [
    "(x==y) and (z>y) or (x<y)"
   ]
  },
  {
   "cell_type": "code",
   "execution_count": 36,
   "id": "5e2c3eaf",
   "metadata": {},
   "outputs": [
    {
     "data": {
      "text/plain": [
       "False"
      ]
     },
     "execution_count": 36,
     "metadata": {},
     "output_type": "execute_result"
    }
   ],
   "source": [
    "(x==y) and (z>y) or (x>y)"
   ]
  },
  {
   "cell_type": "code",
   "execution_count": 37,
   "id": "a5933185",
   "metadata": {},
   "outputs": [
    {
     "data": {
      "text/plain": [
       "True"
      ]
     },
     "execution_count": 37,
     "metadata": {},
     "output_type": "execute_result"
    }
   ],
   "source": [
    "True and False or True"
   ]
  },
  {
   "cell_type": "code",
   "execution_count": 43,
   "id": "ea402ce5",
   "metadata": {},
   "outputs": [
    {
     "data": {
      "text/plain": [
       "False"
      ]
     },
     "execution_count": 43,
     "metadata": {},
     "output_type": "execute_result"
    }
   ],
   "source": [
    "False or False and True"
   ]
  },
  {
   "cell_type": "code",
   "execution_count": 56,
   "id": "9514a124",
   "metadata": {},
   "outputs": [
    {
     "name": "stdout",
     "output_type": "stream",
     "text": [
      "False\n"
     ]
    }
   ],
   "source": [
    "print((not(2!=3) and True) or (False and True))"
   ]
  },
  {
   "cell_type": "markdown",
   "id": "50bd5496",
   "metadata": {},
   "source": [
    "# Useful Functions"
   ]
  },
  {
   "cell_type": "code",
   "execution_count": 49,
   "id": "7a366f54",
   "metadata": {},
   "outputs": [
    {
     "name": "stdout",
     "output_type": "stream",
     "text": [
      "4.224\n"
     ]
    }
   ],
   "source": [
    "print(round(4.2245 ,3))"
   ]
  },
  {
   "cell_type": "code",
   "execution_count": 53,
   "id": "d39ee76d",
   "metadata": {},
   "outputs": [
    {
     "name": "stdout",
     "output_type": "stream",
     "text": [
      "4.284973\n"
     ]
    }
   ],
   "source": [
    "print(round(4.2849734 ,6))"
   ]
  },
  {
   "cell_type": "code",
   "execution_count": 57,
   "id": "ceba4d11",
   "metadata": {},
   "outputs": [
    {
     "name": "stdout",
     "output_type": "stream",
     "text": [
      "4\n"
     ]
    }
   ],
   "source": [
    "print(round(4.34))"
   ]
  },
  {
   "cell_type": "code",
   "execution_count": 64,
   "id": "ab540b6c",
   "metadata": {},
   "outputs": [
    {
     "data": {
      "text/plain": [
       "(3, 7)"
      ]
     },
     "execution_count": 64,
     "metadata": {},
     "output_type": "execute_result"
    }
   ],
   "source": [
    "divmod(34,9)"
   ]
  },
  {
   "cell_type": "code",
   "execution_count": 65,
   "id": "ceec3475",
   "metadata": {},
   "outputs": [
    {
     "name": "stdout",
     "output_type": "stream",
     "text": [
      "<class 'tuple'>\n"
     ]
    }
   ],
   "source": [
    "G = divmod(34,9)\n",
    "print(type(G))"
   ]
  },
  {
   "cell_type": "code",
   "execution_count": 68,
   "id": "ae779632",
   "metadata": {},
   "outputs": [
    {
     "name": "stdout",
     "output_type": "stream",
     "text": [
      "(3, 7)\n"
     ]
    }
   ],
   "source": [
    "print(G)"
   ]
  },
  {
   "cell_type": "code",
   "execution_count": 71,
   "id": "977eeae3",
   "metadata": {},
   "outputs": [
    {
     "data": {
      "text/plain": [
       "3"
      ]
     },
     "execution_count": 71,
     "metadata": {},
     "output_type": "execute_result"
    }
   ],
   "source": [
    "G[0]"
   ]
  },
  {
   "cell_type": "code",
   "execution_count": 72,
   "id": "a460d801",
   "metadata": {},
   "outputs": [
    {
     "data": {
      "text/plain": [
       "7"
      ]
     },
     "execution_count": 72,
     "metadata": {},
     "output_type": "execute_result"
    }
   ],
   "source": [
    "G[1]"
   ]
  },
  {
   "cell_type": "code",
   "execution_count": 73,
   "id": "a264d4e3",
   "metadata": {},
   "outputs": [
    {
     "data": {
      "text/plain": [
       "3"
      ]
     },
     "execution_count": 73,
     "metadata": {},
     "output_type": "execute_result"
    }
   ],
   "source": [
    "34//9"
   ]
  },
  {
   "cell_type": "code",
   "execution_count": 74,
   "id": "2bb1f776",
   "metadata": {},
   "outputs": [
    {
     "data": {
      "text/plain": [
       "7"
      ]
     },
     "execution_count": 74,
     "metadata": {},
     "output_type": "execute_result"
    }
   ],
   "source": [
    "34%9"
   ]
  },
  {
   "cell_type": "code",
   "execution_count": 77,
   "id": "7a8e476c",
   "metadata": {},
   "outputs": [
    {
     "data": {
      "text/plain": [
       "True"
      ]
     },
     "execution_count": 77,
     "metadata": {},
     "output_type": "execute_result"
    }
   ],
   "source": [
    "isinstance(3,int)"
   ]
  },
  {
   "cell_type": "code",
   "execution_count": 78,
   "id": "2a528df0",
   "metadata": {},
   "outputs": [
    {
     "data": {
      "text/plain": [
       "False"
      ]
     },
     "execution_count": 78,
     "metadata": {},
     "output_type": "execute_result"
    }
   ],
   "source": [
    "isinstance(3.5,int)"
   ]
  },
  {
   "cell_type": "code",
   "execution_count": 80,
   "id": "8475e392",
   "metadata": {},
   "outputs": [
    {
     "data": {
      "text/plain": [
       "True"
      ]
     },
     "execution_count": 80,
     "metadata": {},
     "output_type": "execute_result"
    }
   ],
   "source": [
    "isinstance(\"hole\", str)"
   ]
  },
  {
   "cell_type": "code",
   "execution_count": 81,
   "id": "61bd36be",
   "metadata": {},
   "outputs": [
    {
     "data": {
      "text/plain": [
       "True"
      ]
     },
     "execution_count": 81,
     "metadata": {},
     "output_type": "execute_result"
    }
   ],
   "source": [
    "isinstance(4.5,float)"
   ]
  },
  {
   "cell_type": "code",
   "execution_count": 87,
   "id": "469f1680",
   "metadata": {},
   "outputs": [
    {
     "data": {
      "text/plain": [
       "True"
      ]
     },
     "execution_count": 87,
     "metadata": {},
     "output_type": "execute_result"
    }
   ],
   "source": [
    "isinstance(2+2j, complex)"
   ]
  },
  {
   "cell_type": "code",
   "execution_count": 91,
   "id": "a07440c2",
   "metadata": {},
   "outputs": [
    {
     "data": {
      "text/plain": [
       "False"
      ]
     },
     "execution_count": 91,
     "metadata": {},
     "output_type": "execute_result"
    }
   ],
   "source": [
    "isinstance(2+3j,(int,float,str))"
   ]
  },
  {
   "cell_type": "code",
   "execution_count": 92,
   "id": "fcc3034a",
   "metadata": {},
   "outputs": [
    {
     "data": {
      "text/plain": [
       "16"
      ]
     },
     "execution_count": 92,
     "metadata": {},
     "output_type": "execute_result"
    }
   ],
   "source": [
    "pow(2,4)"
   ]
  },
  {
   "cell_type": "code",
   "execution_count": 93,
   "id": "41a6ef62",
   "metadata": {},
   "outputs": [
    {
     "data": {
      "text/plain": [
       "2"
      ]
     },
     "execution_count": 93,
     "metadata": {},
     "output_type": "execute_result"
    }
   ],
   "source": [
    "pow(2,4,7)"
   ]
  },
  {
   "cell_type": "code",
   "execution_count": 95,
   "id": "86ccabbd",
   "metadata": {},
   "outputs": [
    {
     "name": "stdout",
     "output_type": "stream",
     "text": [
      "Enter a number :52\n"
     ]
    }
   ],
   "source": [
    "x = input(\"Enter a number :\")"
   ]
  },
  {
   "cell_type": "code",
   "execution_count": 96,
   "id": "a2ee7a04",
   "metadata": {},
   "outputs": [
    {
     "data": {
      "text/plain": [
       "str"
      ]
     },
     "execution_count": 96,
     "metadata": {},
     "output_type": "execute_result"
    }
   ],
   "source": [
    "type(x)"
   ]
  },
  {
   "cell_type": "code",
   "execution_count": 97,
   "id": "74862fd6",
   "metadata": {},
   "outputs": [],
   "source": [
    "x =int(x)"
   ]
  },
  {
   "cell_type": "code",
   "execution_count": 98,
   "id": "651af7e4",
   "metadata": {},
   "outputs": [
    {
     "data": {
      "text/plain": [
       "int"
      ]
     },
     "execution_count": 98,
     "metadata": {},
     "output_type": "execute_result"
    }
   ],
   "source": [
    "type(x)"
   ]
  },
  {
   "cell_type": "code",
   "execution_count": 99,
   "id": "199747e3",
   "metadata": {},
   "outputs": [
    {
     "name": "stdout",
     "output_type": "stream",
     "text": [
      "18\n"
     ]
    }
   ],
   "source": [
    "print(x-34)"
   ]
  },
  {
   "cell_type": "code",
   "execution_count": 103,
   "id": "48aa52b4",
   "metadata": {},
   "outputs": [
    {
     "name": "stdout",
     "output_type": "stream",
     "text": [
      "Send an Email :amarachiamazu123@gmail.com\n"
     ]
    }
   ],
   "source": [
    "a = input(\"Send an Email :\")"
   ]
  },
  {
   "cell_type": "code",
   "execution_count": 126,
   "id": "ac917fcb",
   "metadata": {},
   "outputs": [
    {
     "name": "stdout",
     "output_type": "stream",
     "text": [
      "Enter any number :58.2\n"
     ]
    }
   ],
   "source": [
    "p =float(input(\"Enter any number :\"))"
   ]
  },
  {
   "cell_type": "code",
   "execution_count": 112,
   "id": "55981dfd",
   "metadata": {},
   "outputs": [
    {
     "data": {
      "text/plain": [
       "float"
      ]
     },
     "execution_count": 112,
     "metadata": {},
     "output_type": "execute_result"
    }
   ],
   "source": [
    "type(p)"
   ]
  },
  {
   "cell_type": "code",
   "execution_count": 113,
   "id": "4e4049b8",
   "metadata": {},
   "outputs": [
    {
     "name": "stdout",
     "output_type": "stream",
     "text": [
      "12\n",
      "10\n",
      "12\n",
      "I am still inside the If condition\n",
      "I am outside the If condition\n"
     ]
    }
   ],
   "source": [
    "a = int(input()) \n",
    "b =int(input())\n",
    "if a>b:\n",
    "    print(a)\n",
    "    print(\"I am still inside the If condition\")\n",
    "print(\"I am outside the If condition\")"
   ]
  },
  {
   "cell_type": "code",
   "execution_count": 114,
   "id": "98b89d23",
   "metadata": {},
   "outputs": [
    {
     "name": "stdout",
     "output_type": "stream",
     "text": [
      "5\n",
      "19\n",
      "I am outside the If condition\n"
     ]
    }
   ],
   "source": [
    "a = int(input()) \n",
    "b =int(input())\n",
    "if a>b:\n",
    "    print(a)\n",
    "    print(\"I am still inside the If condition\")\n",
    "print(\"I am outside the If condition\")"
   ]
  },
  {
   "cell_type": "code",
   "execution_count": 116,
   "id": "9e38176f",
   "metadata": {},
   "outputs": [
    {
     "name": "stdout",
     "output_type": "stream",
     "text": [
      "10\n",
      "15\n",
      "15\n"
     ]
    }
   ],
   "source": [
    "a = int(input()) \n",
    "b = int(input())\n",
    "if a>b:\n",
    "    print(a)\n",
    "if b>a:\n",
    "    print(b)\n"
   ]
  },
  {
   "cell_type": "code",
   "execution_count": 118,
   "id": "c0ace822",
   "metadata": {},
   "outputs": [
    {
     "name": "stdout",
     "output_type": "stream",
     "text": [
      "20\n",
      "27\n",
      "27\n"
     ]
    }
   ],
   "source": [
    "a = int(input()) \n",
    "b = int(input())\n",
    "if a>b:\n",
    "    print(\"a is greater than b\")\n",
    "else:\n",
    "    print(\"a is not greater than b\")"
   ]
  },
  {
   "cell_type": "code",
   "execution_count": 119,
   "id": "44aa001f",
   "metadata": {},
   "outputs": [
    {
     "name": "stdout",
     "output_type": "stream",
     "text": [
      "40\n",
      "23\n",
      "40\n",
      "If part\n"
     ]
    }
   ],
   "source": [
    "a = int(input()) \n",
    "b = int(input())\n",
    "if a>b:\n",
    "    print(a)\n",
    "    print(\"If part\")\n",
    "else:\n",
    "    print(b)\n",
    "    print(\"Else part\")"
   ]
  },
  {
   "cell_type": "code",
   "execution_count": 124,
   "id": "c80c84f7",
   "metadata": {},
   "outputs": [
    {
     "name": "stdout",
     "output_type": "stream",
     "text": [
      "A\n",
      "in If\n"
     ]
    }
   ],
   "source": [
    "a = 10\n",
    "b= 5\n",
    "if a==b:\n",
    "    print(\"Equal\")\n",
    "elif a>b:\n",
    "    print(\"A\")\n",
    "    print(\"in If\")\n",
    "else:\n",
    "    print(\"B\")\n",
    "    print(\"Not in If\")\n"
   ]
  },
  {
   "cell_type": "code",
   "execution_count": 133,
   "id": "3f5d65d0",
   "metadata": {},
   "outputs": [
    {
     "name": "stdout",
     "output_type": "stream",
     "text": [
      "Enter marks :64\n",
      "Below Average\n"
     ]
    }
   ],
   "source": [
    "a = int(input(\"Enter marks :\"))\n",
    "if a >= 85:\n",
    "    print(\"A Grade\")\n",
    "elif (a < 85) and (a >= 80):\n",
    "    print(\"A- Grade\")\n",
    "elif a < 80 and a >= 75:\n",
    "    print(\"B Grade\") \n",
    "elif a < 75 and a >= 70:\n",
    "    print(\"B- Grade\")\n",
    "else:\n",
    "    print(\"Below Average\")\n"
   ]
  },
  {
   "cell_type": "code",
   "execution_count": 146,
   "id": "b11a9dba",
   "metadata": {},
   "outputs": [
    {
     "name": "stdout",
     "output_type": "stream",
     "text": [
      "Else part\n"
     ]
    }
   ],
   "source": [
    "a = 3\n",
    "if a > 10:\n",
    "    print(\"10\")\n",
    "elif not(a>10):\n",
    "    print(\"Else part\")"
   ]
  },
  {
   "cell_type": "code",
   "execution_count": 154,
   "id": "e8c66425",
   "metadata": {},
   "outputs": [
    {
     "name": "stdout",
     "output_type": "stream",
     "text": [
      "24\n",
      ">10\n",
      "inside the top if\n",
      ">20\n",
      "inside the nested if\n",
      "<=20\n",
      "inside the nested else part of the nested if of nested if\n",
      "Outside all ifs\n"
     ]
    }
   ],
   "source": [
    "x = int(input())\n",
    "if x > 10:\n",
    "    print(\">10\")\n",
    "    print(\"inside the top if\")\n",
    "if x > 20:\n",
    "    print(\">20\")\n",
    "    print(\"inside the nested if\")\n",
    "if x < 20:\n",
    "        print(\"<20\")\n",
    "        print(\"Inside the nested if of nested if\")     \n",
    "else:\n",
    "        print(\"<=20\")\n",
    "        print(\"inside the nested else part of the nested if of nested if\")        \n",
    "print(\"Outside all ifs\")"
   ]
  },
  {
   "cell_type": "code",
   "execution_count": 189,
   "id": "67a99943",
   "metadata": {},
   "outputs": [
    {
     "name": "stdout",
     "output_type": "stream",
     "text": [
      "Enter a real number :23.4\n",
      "odd\n",
      "23\n"
     ]
    }
   ],
   "source": [
    "# single line comment\n",
    "\"\"\"\n",
    "Useer will enter a floating point number let say 234.789. \n",
    "Your task is to find out the integer potion before the point \n",
    "(in this 234) and then check if that integer portion is an even \n",
    "number or not?\n",
    "\"\"\"\n",
    "x = float(input(\"Enter a real number :\"))\n",
    "y = round(x)\n",
    "if x>0:\n",
    "    if y>x:\n",
    "        intportion = y-1 \n",
    "    else:\n",
    "        intportion = y\n",
    "else:\n",
    "    if y<x:\n",
    "        intportion = y+1\n",
    "    else:\n",
    "        intportion = y\n",
    "if intportion%2 == 0:\n",
    "    print(\"Even\")\n",
    "else:\n",
    "    print(\"odd\")\n",
    "print(intportion)"
   ]
  },
  {
   "cell_type": "code",
   "execution_count": 197,
   "id": "01f8f8ea",
   "metadata": {
    "scrolled": true
   },
   "outputs": [
    {
     "name": "stdout",
     "output_type": "stream",
     "text": [
      "5\n",
      "1\n",
      "Ths is iteration number : 1\n",
      "4\n",
      "Ths is iteration number : 2\n",
      "9\n",
      "Ths is iteration number : 3\n",
      "16\n",
      "Ths is iteration number : 4\n",
      "Loop done\n"
     ]
    }
   ],
   "source": [
    "n = int(input())\n",
    "i = 1\n",
    "while i < n:\n",
    "    print(i**2)\n",
    "    print(\"Ths is iteration number :\", i)\n",
    "    i+=1 # i = i+1(ther are thesame thing)\n",
    "print(\"Loop done\")"
   ]
  },
  {
   "cell_type": "code",
   "execution_count": 199,
   "id": "f68ff46d",
   "metadata": {},
   "outputs": [
    {
     "name": "stdout",
     "output_type": "stream",
     "text": [
      "inside else\n",
      "inside else\n",
      "inside else\n",
      "inside else\n",
      "inside if\n",
      "done\n"
     ]
    }
   ],
   "source": [
    "n = 10\n",
    "i = 5\n",
    "while True:\n",
    "    if i%9 == 0:\n",
    "        print(\"inside if\")\n",
    "        break\n",
    "    else:\n",
    "        print(\"inside else\")\n",
    "        i = i+1\n",
    "print(\"done\")"
   ]
  },
  {
   "cell_type": "code",
   "execution_count": 235,
   "id": "e9c713c4",
   "metadata": {},
   "outputs": [
    {
     "name": "stdout",
     "output_type": "stream",
     "text": [
      "inside if\n",
      "inside if\n",
      "inside if\n",
      "inside if\n",
      "inside if\n",
      "inside if\n",
      "inside if\n",
      "inside if\n",
      "something\n",
      "somethingelse\n",
      "done\n"
     ]
    }
   ],
   "source": [
    "n = 10\n",
    "i = 1\n",
    "while True:\n",
    "    if i%9 !=0:\n",
    "        print(\"inside if\")\n",
    "        i +=1\n",
    "        continue\n",
    "    print(\"something\")\n",
    "    print(\"somethingelse\")\n",
    "    break\n",
    "print(\"done\")"
   ]
  },
  {
   "cell_type": "code",
   "execution_count": 236,
   "id": "42d7bfd8",
   "metadata": {},
   "outputs": [
    {
     "name": "stdout",
     "output_type": "stream",
     "text": [
      "1\n",
      "[1]\n"
     ]
    }
   ],
   "source": [
    "L = []\n",
    "for i in range(1,3,10):\n",
    "    print(i)\n",
    "    L.append(i**2)\n",
    "print(L)"
   ]
  },
  {
   "cell_type": "code",
   "execution_count": 237,
   "id": "ba8646d1",
   "metadata": {},
   "outputs": [
    {
     "name": "stdout",
     "output_type": "stream",
     "text": [
      "1\n",
      "2\n",
      "3\n",
      "4\n",
      "5\n",
      "6\n",
      "7\n",
      "8\n",
      "9\n",
      "10\n",
      "[0, 1, 4, 9, 16, 25, 36, 49, 64, 81]\n"
     ]
    }
   ],
   "source": [
    "L = []\n",
    "for i in range(10):\n",
    "    print(i+1)\n",
    "    L.append(i**2)\n",
    "print(L)\n",
    "    "
   ]
  },
  {
   "cell_type": "code",
   "execution_count": 249,
   "id": "19da2969",
   "metadata": {},
   "outputs": [
    {
     "name": "stdout",
     "output_type": "stream",
     "text": [
      "0\n",
      "2\n",
      "4\n",
      "6\n",
      "8\n",
      "[0, 4, 16, 36, 64]\n"
     ]
    }
   ],
   "source": [
    "L = []\n",
    "for i in range(0,10,2): # 0=starting number, 10=range 2=a jump of 2\n",
    "    print(i)\n",
    "    L.append(i**2)\n",
    "print(L)"
   ]
  },
  {
   "cell_type": "code",
   "execution_count": 250,
   "id": "645170ce",
   "metadata": {},
   "outputs": [
    {
     "name": "stdout",
     "output_type": "stream",
     "text": [
      "2\n",
      "5\n",
      "8\n",
      "11\n",
      "14\n",
      "17\n",
      "[4, 25, 64, 121, 196, 289]\n"
     ]
    }
   ],
   "source": [
    "L = []\n",
    "for i in range(2,20,3): # 2=starting number, 20=range 3=a jump of 3... and that is the trend\n",
    "    print(i)\n",
    "    L.append(i**2) # L.append makes a list of the solutions that was calculated\n",
    "print(L)"
   ]
  },
  {
   "cell_type": "code",
   "execution_count": 8,
   "id": "c69d5165",
   "metadata": {},
   "outputs": [
    {
     "name": "stdout",
     "output_type": "stream",
     "text": [
      "apple\n",
      "4.9\n",
      "cherry\n",
      "Loop terminates with succes\n",
      "Out side the loop\n"
     ]
    }
   ],
   "source": [
    "S = [\"apple\", \"4.9\", \"cherry\"]\n",
    "i = 1\n",
    "for x in S:\n",
    "    print(x)\n",
    "    i=+1\n",
    "    if i==3:\n",
    "        break\n",
    "    else:\n",
    "            pass \n",
    "else:\n",
    "    print(\"Loop terminates with succes\")\n",
    "print(\"Out side the loop\")"
   ]
  },
  {
   "cell_type": "code",
   "execution_count": 18,
   "id": "617677ac",
   "metadata": {},
   "outputs": [
    {
     "name": "stdout",
     "output_type": "stream",
     "text": [
      "A 10\n",
      "B -19\n",
      "C abcd\n"
     ]
    }
   ],
   "source": [
    "D = {\"A\":10, \"B\":-19, \"C\":\"abcd\"}\n",
    "for x in D:\n",
    "    print(x,D[x])"
   ]
  },
  {
   "cell_type": "code",
   "execution_count": 19,
   "id": "0e4261c1",
   "metadata": {},
   "outputs": [
    {
     "name": "stdout",
     "output_type": "stream",
     "text": [
      "-15\n"
     ]
    }
   ],
   "source": [
    "\"\"\"Given a list of numbers [-3, 2, -1, -15, 8, 9], find the\n",
    "    minimum number, such that the result is will be another list, present like this [-15, -3, -1, 2, 8, 9]\n",
    "\"\"\"\n",
    "\n",
    "L = [-3, 2, -1, -15, 8, 9]\n",
    "\n",
    "m = L[0]\n",
    "for i in L:\n",
    "    if i<m:\n",
    "        m = i\n",
    "print(m)"
   ]
  },
  {
   "cell_type": "code",
   "execution_count": 32,
   "id": "6348415b",
   "metadata": {},
   "outputs": [
    {
     "name": "stdout",
     "output_type": "stream",
     "text": [
      "3 -15\n"
     ]
    }
   ],
   "source": [
    "\"\"\"Given a list of numbers [-3, 2, -1, -15, 8, 9], find the\n",
    "    minimum number, such that the result is will be another list, present like this [-15, -3, -1, 2, 8, 9]\n",
    "\"\"\"\n",
    "\n",
    "L = [-3, 2, -1, -15, 8, 9]\n",
    "\n",
    "m = L[0] # minimum value\n",
    "\n",
    "idx = 0 # idx=index number\n",
    "c = 0   # c= counter number\n",
    "for i in L:\n",
    "        if i<m:\n",
    "            m = i\n",
    "            idx = c\n",
    "        c+=1\n",
    "tmp = L[0]\n",
    "L[0] = m\n",
    "L[idx] = tmp\n",
    "print(idx,m)"
   ]
  },
  {
   "cell_type": "code",
   "execution_count": 39,
   "id": "5499eee5",
   "metadata": {},
   "outputs": [
    {
     "name": "stdout",
     "output_type": "stream",
     "text": [
      "[-15, -3, -1, 2, 8, 9]\n"
     ]
    }
   ],
   "source": [
    "\"\"\"Given a list of numbers [-3, 2, -1, -15, 8, 9], find the\n",
    "    minimum number, such that the result is will be another list, present like this [-15, -3, -1, 2, 8, 9]\n",
    "\"\"\"\n",
    "\n",
    "L = [-3, 2, -1, -15, 8, 9]\n",
    "for j in range(len(L)):\n",
    "    m = L[j]\n",
    "    idx = j\n",
    "    c = j  \n",
    "    for i in range (j, len(L)):\n",
    "        if L[i]<m:\n",
    "            m = L[i]\n",
    "            idx = c\n",
    "        c+=1\n",
    "    tmp = L[j]\n",
    "    L[j] = m\n",
    "    L[idx] = tmp\n",
    "print(L)"
   ]
  },
  {
   "cell_type": "markdown",
   "id": "c262b488",
   "metadata": {},
   "source": [
    "# While Loop"
   ]
  },
  {
   "cell_type": "code",
   "execution_count": 42,
   "id": "e16f569f",
   "metadata": {},
   "outputs": [
    {
     "name": "stdout",
     "output_type": "stream",
     "text": [
      "The count is:', count\n",
      "The count is:', count\n",
      "The count is:', count\n",
      "The count is:', count\n",
      "The count is:', count\n",
      "The count is:', count\n",
      "The count is:', count\n",
      "The count is:', count\n",
      "The count is:', count\n",
      "Good bye!\n"
     ]
    }
   ],
   "source": [
    "count = 0\n",
    "\n",
    "while (count < 9):\n",
    "   print(\"The count is:', count\")   #The while loop statment continues to print until statement becomes Fasle\n",
    "   count = count + 1\n",
    "\n",
    "print(\"Good bye!\")"
   ]
  },
  {
   "cell_type": "markdown",
   "id": "8a06ee31",
   "metadata": {},
   "source": [
    "# Else in While Loop statement"
   ]
  },
  {
   "cell_type": "markdown",
   "id": "62e8d107",
   "metadata": {},
   "source": [
    "count = 0\n",
    "\n",
    "while count < 5:\n",
    "   print(\"count, is less than 5\")   #the Else statement executes when while statement becomes False\n",
    "   count = count + 1\n",
    "else:\n",
    "   print(\"count, is not less than 5\")"
   ]
  },
  {
   "cell_type": "markdown",
   "id": "ec3f7b1c",
   "metadata": {},
   "source": [
    "# For Loop statement"
   ]
  },
  {
   "cell_type": "code",
   "execution_count": 55,
   "id": "e83349e1",
   "metadata": {},
   "outputs": [
    {
     "name": "stdout",
     "output_type": "stream",
     "text": [
      "Current Letter : P\n",
      "Current Letter : y\n",
      "Current Letter : t\n",
      "Current Letter : h\n",
      "Current Letter : o\n",
      "Current Letter : n\n",
      "Current fruit: banana\n",
      "Current fruit: apple\n",
      "Current fruit: mango\n",
      "Good bye!\n"
     ]
    }
   ],
   "source": [
    "for letter in 'Python':     # First Example\n",
    "   print(\"Current Letter :\", letter)\n",
    "\n",
    "\n",
    "fruits = ['banana', 'apple',  'mango']          #The For Loop statement executes until it finishes iteration \n",
    "for fruit in fruits:        # Second Example\n",
    "   print(\"Current fruit:\", fruit)\n",
    "\n",
    "print(\"Good bye!\")"
   ]
  },
  {
   "cell_type": "code",
   "execution_count": 57,
   "id": "605daf3b",
   "metadata": {},
   "outputs": [
    {
     "name": "stdout",
     "output_type": "stream",
     "text": [
      "Current fruit: banana\n",
      "Current fruit: apple\n",
      "Current fruit: mango\n",
      "Good bye!\n"
     ]
    }
   ],
   "source": [
    "fruits = ['banana', 'apple',  'mango']\n",
    "for index in range(len(fruits)):             #The len() function also provides a sequence the listed itmes in the tuple follow\n",
    "   print(\"Current fruit:\", fruits[index])\n",
    "\n",
    "print(\"Good bye!\")"
   ]
  },
  {
   "cell_type": "markdown",
   "id": "5a0468e8",
   "metadata": {},
   "source": [
    "# Else in For Loop statment"
   ]
  },
  {
   "cell_type": "code",
   "execution_count": 63,
   "id": "22a94b1b",
   "metadata": {},
   "outputs": [
    {
     "name": "stdout",
     "output_type": "stream",
     "text": [
      "10 equals 2 * 5\n",
      "11 is a prime number\n",
      "12 equals 2 * 6\n",
      "13 is a prime number\n",
      "14 equals 2 * 7\n",
      "15 equals 3 * 5\n",
      "16 equals 2 * 8\n",
      "17 is a prime number\n",
      "18 equals 2 * 9\n",
      "19 is a prime number\n"
     ]
    }
   ],
   "source": [
    "for num in range(10,20):     #to iterate between 10 to 20\n",
    "   for i in range(2,num):    #to iterate on the factors of the number\n",
    "      if num%i == 0:         #to determine the first factor\n",
    "         j=num/i             #to calculate the second factor\n",
    "         print(\"%d equals %d * %d\" % (num,i,j))                    #Else statement only executes after the For iteration\n",
    "         break #to move to the next number, the #first FOR\n",
    "   else:                  # else part of the loop\n",
    "      print(num, \"is a prime number\")"
   ]
  },
  {
   "cell_type": "markdown",
   "id": "f0a2f568",
   "metadata": {},
   "source": [
    "# Functions"
   ]
  },
  {
   "cell_type": "code",
   "execution_count": 64,
   "id": "a75f64f2",
   "metadata": {},
   "outputs": [],
   "source": [
    "def printsuccess():\n",
    "    print(\"I am done\")\n",
    "    print(\"Send me another task\")   #printsuccess() function invokes codes under it"
   ]
  },
  {
   "cell_type": "code",
   "execution_count": 66,
   "id": "ebb416f1",
   "metadata": {},
   "outputs": [
    {
     "name": "stdout",
     "output_type": "stream",
     "text": [
      "I am done\n",
      "Send me another task\n"
     ]
    }
   ],
   "source": [
    "printsuccess()"
   ]
  },
  {
   "cell_type": "code",
   "execution_count": 68,
   "id": "819899bf",
   "metadata": {},
   "outputs": [
    {
     "data": {
      "text/plain": [
       "11"
      ]
     },
     "execution_count": 68,
     "metadata": {},
     "output_type": "execute_result"
    }
   ],
   "source": [
    "3+8"
   ]
  },
  {
   "cell_type": "code",
   "execution_count": 70,
   "id": "b1bb8a81",
   "metadata": {},
   "outputs": [
    {
     "name": "stdout",
     "output_type": "stream",
     "text": [
      "I am done\n",
      "Send me another task\n"
     ]
    }
   ],
   "source": [
    "printsuccess()"
   ]
  },
  {
   "cell_type": "code",
   "execution_count": 76,
   "id": "02a67f38",
   "metadata": {},
   "outputs": [],
   "source": [
    "def printsuccess2():\n",
    "    \"\"\" This function is doing nothing except printing a message.That message is \"Hello\"\n",
    "    \"\"\"\n",
    "    print(\"Hello\")"
   ]
  },
  {
   "cell_type": "code",
   "execution_count": 77,
   "id": "9308e284",
   "metadata": {},
   "outputs": [
    {
     "name": "stdout",
     "output_type": "stream",
     "text": [
      "Help on function printsuccess2 in module __main__:\n",
      "\n",
      "printsuccess2()\n",
      "    This function is doing nothing except printing a message.That message is \"Hello\"\n",
      "\n"
     ]
    }
   ],
   "source": [
    "help(printsuccess2)"
   ]
  },
  {
   "cell_type": "code",
   "execution_count": 78,
   "id": "c8c4b45d",
   "metadata": {},
   "outputs": [
    {
     "name": "stdout",
     "output_type": "stream",
     "text": [
      "Hello\n"
     ]
    }
   ],
   "source": [
    "printsuccess2()"
   ]
  },
  {
   "cell_type": "code",
   "execution_count": 81,
   "id": "3df4c2c4",
   "metadata": {},
   "outputs": [],
   "source": [
    "def printMsg(msg):\n",
    "    \"\"\"The function prints the message supplied by the user\n",
    "        or prints that msg is not in the form of string\n",
    "    \"\"\"\n",
    "    if isinstance(msg, str):\n",
    "        print(msg)\n",
    "    else:\n",
    "            print(\"Your input argument is not a string\")\n",
    "            print(\"Here is the type of what you have supplied\", type(msg))\n",
    "    print(msg)"
   ]
  },
  {
   "cell_type": "code",
   "execution_count": 85,
   "id": "bf642027",
   "metadata": {},
   "outputs": [
    {
     "name": "stdout",
     "output_type": "stream",
     "text": [
      "Help on function printMsg in module __main__:\n",
      "\n",
      "printMsg(msg)\n",
      "    The function prints the message supplied by the user\n",
      "    or prints that msg is not in the form of string\n",
      "\n"
     ]
    }
   ],
   "source": [
    "help(printMsg)"
   ]
  },
  {
   "cell_type": "code",
   "execution_count": 87,
   "id": "2b79c8a5",
   "metadata": {},
   "outputs": [],
   "source": [
    "printMsg?"
   ]
  },
  {
   "cell_type": "code",
   "execution_count": 88,
   "id": "a604878a",
   "metadata": {},
   "outputs": [
    {
     "name": "stdout",
     "output_type": "stream",
     "text": [
      "This is the message\n",
      "This is the message\n"
     ]
    }
   ],
   "source": [
    "printMsg(\"This is the message\")"
   ]
  },
  {
   "cell_type": "code",
   "execution_count": 89,
   "id": "7e1743d0",
   "metadata": {},
   "outputs": [
    {
     "name": "stdout",
     "output_type": "stream",
     "text": [
      "Your input argument is not a string\n",
      "Here is the type of what you have supplied <class 'int'>\n",
      "23\n"
     ]
    }
   ],
   "source": [
    "printMsg(23)"
   ]
  },
  {
   "cell_type": "code",
   "execution_count": 102,
   "id": "e161ebbf",
   "metadata": {},
   "outputs": [
    {
     "name": "stdout",
     "output_type": "stream",
     "text": [
      "Your input argument is not a string\n",
      "Here is the type of what you have supplied <class 'float'>\n",
      "23.5\n"
     ]
    }
   ],
   "source": [
    "printMsg(23.5)"
   ]
  },
  {
   "cell_type": "code",
   "execution_count": 103,
   "id": "bbb9fb5a",
   "metadata": {},
   "outputs": [
    {
     "name": "stdout",
     "output_type": "stream",
     "text": [
      "Welcome\n",
      "Welcome\n"
     ]
    }
   ],
   "source": [
    "y = \"Welcome\"\n",
    "printMsg(y)"
   ]
  },
  {
   "cell_type": "code",
   "execution_count": 104,
   "id": "36b7a2d1",
   "metadata": {},
   "outputs": [],
   "source": [
    "def mypow(a,b):\n",
    "    \"\"\" this function computes power just like biltin pow function\n",
    "    \"\"\"\n",
    "    c = a**b\n",
    "    print(c)"
   ]
  },
  {
   "cell_type": "code",
   "execution_count": 105,
   "id": "dfedb1b2",
   "metadata": {},
   "outputs": [],
   "source": [
    "pow?"
   ]
  },
  {
   "cell_type": "code",
   "execution_count": 106,
   "id": "7381856b",
   "metadata": {},
   "outputs": [
    {
     "name": "stdout",
     "output_type": "stream",
     "text": [
      "81\n"
     ]
    }
   ],
   "source": [
    "mypow(3,4)"
   ]
  },
  {
   "cell_type": "code",
   "execution_count": 121,
   "id": "e26aecab",
   "metadata": {},
   "outputs": [],
   "source": [
    "def checkArgs(a,b,c,):\n",
    "    if isinstance(a,(int,float)) and isinstance(b,(int,float)) and isinstance(c,(int,float)):\n",
    "        print((a+b+c)**2)\n",
    "    \n",
    "    else:\n",
    "        print(\"Error: the input argument are not of the expected types\")\n",
    "    "
   ]
  },
  {
   "cell_type": "code",
   "execution_count": 122,
   "id": "1b1fa12b",
   "metadata": {},
   "outputs": [
    {
     "name": "stdout",
     "output_type": "stream",
     "text": [
      "36\n"
     ]
    }
   ],
   "source": [
    "checkArgs(3,2,1)"
   ]
  },
  {
   "cell_type": "code",
   "execution_count": 123,
   "id": "08c577f3",
   "metadata": {},
   "outputs": [
    {
     "name": "stdout",
     "output_type": "stream",
     "text": [
      "Error: the input argument are not of the expected types\n"
     ]
    }
   ],
   "source": [
    "checkArgs(4,2,\"glow\")"
   ]
  },
  {
   "cell_type": "code",
   "execution_count": 126,
   "id": "b4ef29de",
   "metadata": {},
   "outputs": [],
   "source": [
    "def f(a,b,c):\n",
    "    print(\"A is :\", a)\n",
    "    print(\"B is :\", b)\n",
    "    print(\"C is :\", c)\n",
    "    "
   ]
  },
  {
   "cell_type": "code",
   "execution_count": 129,
   "id": "91d423e4",
   "metadata": {},
   "outputs": [
    {
     "name": "stdout",
     "output_type": "stream",
     "text": [
      "A is : 2\n",
      "B is : 3\n",
      "C is : glow\n"
     ]
    }
   ],
   "source": [
    "f(2,3,\"glow\")"
   ]
  },
  {
   "cell_type": "code",
   "execution_count": 130,
   "id": "11efa8af",
   "metadata": {},
   "outputs": [
    {
     "name": "stdout",
     "output_type": "stream",
     "text": [
      "A is : glow\n",
      "B is : 2\n",
      "C is : 3\n"
     ]
    }
   ],
   "source": [
    "f(\"glow\", 2,3)"
   ]
  },
  {
   "cell_type": "code",
   "execution_count": 1,
   "id": "78f5fa44",
   "metadata": {},
   "outputs": [],
   "source": [
    "def myadd(a,b):\n",
    "    sumValue = a+b\n",
    "    return sumValue"
   ]
  },
  {
   "cell_type": "code",
   "execution_count": 2,
   "id": "82c946fc",
   "metadata": {},
   "outputs": [
    {
     "name": "stdout",
     "output_type": "stream",
     "text": [
      "5\n"
     ]
    }
   ],
   "source": [
    "d = myadd(2,3)\n",
    "print(d)"
   ]
  },
  {
   "cell_type": "code",
   "execution_count": 3,
   "id": "25e7bc0b",
   "metadata": {},
   "outputs": [],
   "source": [
    "variableOutSideTheFunction = 3\n"
   ]
  },
  {
   "cell_type": "code",
   "execution_count": 15,
   "id": "1c0183b8",
   "metadata": {},
   "outputs": [],
   "source": [
    "def g():\n",
    "    variableOutSideTheFunction = 5\n",
    "    #print(variableOutSideTheFunction)"
   ]
  },
  {
   "cell_type": "code",
   "execution_count": 21,
   "id": "e8a7746e",
   "metadata": {},
   "outputs": [
    {
     "name": "stdout",
     "output_type": "stream",
     "text": [
      "<class 'NoneType'>\n"
     ]
    }
   ],
   "source": [
    "print(type(g()))"
   ]
  },
  {
   "cell_type": "code",
   "execution_count": 19,
   "id": "87e8d1c4",
   "metadata": {},
   "outputs": [
    {
     "name": "stdout",
     "output_type": "stream",
     "text": [
      "3\n"
     ]
    }
   ],
   "source": [
    "print( variableOutSideTheFunction)"
   ]
  },
  {
   "cell_type": "code",
   "execution_count": 27,
   "id": "27fa85b1",
   "metadata": {},
   "outputs": [],
   "source": [
    "def h():\n",
    "    print(\"A\")\n",
    "    a =3\n",
    "    b =5\n",
    "    c =a+b\n",
    "    print(\"something\")\n",
    "    return c\n",
    "    print(\"B\")\n",
    "    print(\"C\")"
   ]
  },
  {
   "cell_type": "code",
   "execution_count": 30,
   "id": "d9f344de",
   "metadata": {},
   "outputs": [
    {
     "name": "stdout",
     "output_type": "stream",
     "text": [
      "A\n",
      "something\n",
      "<class 'int'>\n"
     ]
    }
   ],
   "source": [
    "print(type(h()))"
   ]
  },
  {
   "cell_type": "code",
   "execution_count": 31,
   "id": "9e75a7a9",
   "metadata": {},
   "outputs": [],
   "source": [
    "def r():\n",
    "    a =5\n",
    "    b =7\n",
    "    d =\"something\"\n",
    "    return a,b,d"
   ]
  },
  {
   "cell_type": "code",
   "execution_count": 33,
   "id": "1ff695d5",
   "metadata": {},
   "outputs": [
    {
     "name": "stdout",
     "output_type": "stream",
     "text": [
      "5 7 something\n"
     ]
    }
   ],
   "source": [
    "x,y,z =r()\n",
    "print(x,y,z)"
   ]
  },
  {
   "cell_type": "code",
   "execution_count": 34,
   "id": "69fa478f",
   "metadata": {},
   "outputs": [],
   "source": [
    "def myAddUniversal(*args):\n",
    "    s = 0\n",
    "    for i in range (len(args)):\n",
    "        s += args[i]     #s = s+args[i]\n",
    "    return s"
   ]
  },
  {
   "cell_type": "code",
   "execution_count": 36,
   "id": "1666bc2f",
   "metadata": {},
   "outputs": [
    {
     "name": "stdout",
     "output_type": "stream",
     "text": [
      "23.5\n"
     ]
    }
   ],
   "source": [
    "print(myAddUniversal(2,4,5,8,4.5))"
   ]
  },
  {
   "cell_type": "code",
   "execution_count": 37,
   "id": "6de66b4c",
   "metadata": {},
   "outputs": [],
   "source": [
    "def printAllVariableNameAndValue(**args):\n",
    "    for x in args:\n",
    "        print(\"Variable Name is :\",x, \"And Value is :\",args[x])"
   ]
  },
  {
   "cell_type": "code",
   "execution_count": 39,
   "id": "02347f17",
   "metadata": {},
   "outputs": [
    {
     "name": "stdout",
     "output_type": "stream",
     "text": [
      "Variable Name is : a And Value is : 3\n",
      "Variable Name is : b And Value is : B\n",
      "Variable Name is : c And Value is : CCC\n",
      "Variable Name is : y And Value is : 6.7\n"
     ]
    }
   ],
   "source": [
    "printAllVariableNameAndValue(a =3, b=\"B\", c=\"CCC\", y=6.7)"
   ]
  },
  {
   "cell_type": "code",
   "execution_count": 50,
   "id": "7f7bb0ee",
   "metadata": {},
   "outputs": [],
   "source": [
    "def gg(s=5):\n",
    "    print(s)"
   ]
  },
  {
   "cell_type": "code",
   "execution_count": 51,
   "id": "dc4370c4",
   "metadata": {},
   "outputs": [
    {
     "name": "stdout",
     "output_type": "stream",
     "text": [
      "5\n"
     ]
    }
   ],
   "source": [
    "gg()"
   ]
  },
  {
   "cell_type": "code",
   "execution_count": 53,
   "id": "43318916",
   "metadata": {},
   "outputs": [
    {
     "name": "stdout",
     "output_type": "stream",
     "text": [
      "45\n"
     ]
    }
   ],
   "source": [
    " gg(45)"
   ]
  },
  {
   "cell_type": "code",
   "execution_count": 54,
   "id": "1f357c44",
   "metadata": {},
   "outputs": [
    {
     "name": "stdout",
     "output_type": "stream",
     "text": [
      "[-9, 2, 3]\n"
     ]
    }
   ],
   "source": [
    "L = [1,2,3]\n",
    "L2 = L\n",
    "L2[0] =-9\n",
    "print(L)"
   ]
  },
  {
   "cell_type": "code",
   "execution_count": 56,
   "id": "2dffc904",
   "metadata": {},
   "outputs": [],
   "source": [
    "def ff(L=[1,2]):\n",
    "    for i in L:\n",
    "        print(i)"
   ]
  },
  {
   "cell_type": "code",
   "execution_count": 57,
   "id": "573389bb",
   "metadata": {},
   "outputs": [
    {
     "name": "stdout",
     "output_type": "stream",
     "text": [
      "1\n",
      "2\n"
     ]
    }
   ],
   "source": [
    "L2 = [12,3,4]\n",
    "ff()"
   ]
  },
  {
   "cell_type": "code",
   "execution_count": 60,
   "id": "cf15cff1",
   "metadata": {
    "scrolled": true
   },
   "outputs": [
    {
     "name": "stdout",
     "output_type": "stream",
     "text": [
      "12\n",
      "3\n",
      "4\n"
     ]
    }
   ],
   "source": [
    "ff(L2)"
   ]
  },
  {
   "cell_type": "code",
   "execution_count": 69,
   "id": "74449657",
   "metadata": {},
   "outputs": [],
   "source": [
    "import sys\n",
    "sys.path.append('C:/ABCD/')"
   ]
  },
  {
   "cell_type": "code",
   "execution_count": 77,
   "id": "c2136d9a",
   "metadata": {},
   "outputs": [],
   "source": [
    "import My_Universal_functions as mfs\n",
    "#from My_Universal_functions import addAllNumerics"
   ]
  },
  {
   "cell_type": "code",
   "execution_count": 79,
   "id": "011c1816",
   "metadata": {},
   "outputs": [
    {
     "name": "stdout",
     "output_type": "stream",
     "text": [
      "14\n"
     ]
    }
   ],
   "source": [
    "d = addAllNumerics(2,3,4,5)\n",
    "print(d)"
   ]
  },
  {
   "cell_type": "code",
   "execution_count": 75,
   "id": "e79393d0",
   "metadata": {},
   "outputs": [],
   "source": [
    "c = mfs.addAllNumerics(2,3,4,5)"
   ]
  },
  {
   "cell_type": "code",
   "execution_count": 76,
   "id": "f55ba805",
   "metadata": {},
   "outputs": [
    {
     "name": "stdout",
     "output_type": "stream",
     "text": [
      "14\n"
     ]
    }
   ],
   "source": [
    "print(c)"
   ]
  },
  {
   "cell_type": "code",
   "execution_count": 81,
   "id": "713d0b7b",
   "metadata": {},
   "outputs": [
    {
     "data": {
      "text/plain": [
       "'python Course'"
      ]
     },
     "execution_count": 81,
     "metadata": {},
     "output_type": "execute_result"
    }
   ],
   "source": [
    "mfs.myName"
   ]
  },
  {
   "cell_type": "markdown",
   "id": "dc5e9304",
   "metadata": {},
   "source": [
    "# Practice Functions"
   ]
  },
  {
   "cell_type": "code",
   "execution_count": 2,
   "id": "7f60ecb0",
   "metadata": {},
   "outputs": [
    {
     "data": {
      "text/plain": [
       "'Given a list of numbers [-3, 2, -1, -15, 8, 9], find the\\n    minimum number, such that the result will be another list, present like this in a sorted order [-15, -3, -1, 2, 8, 9]\\n'"
      ]
     },
     "execution_count": 2,
     "metadata": {},
     "output_type": "execute_result"
    }
   ],
   "source": [
    "\"\"\"Given a list of numbers [-3, 2, -1, -15, 8, 9], find the\n",
    "    minimum number, such that the result will be another list, present like this in a sorted order [-15, -3, -1, 2, 8, 9]\n",
    "\"\"\""
   ]
  },
  {
   "cell_type": "code",
   "execution_count": 130,
   "id": "7d6b413e",
   "metadata": {},
   "outputs": [],
   "source": [
    "def findMin(L,startIndx):\n",
    "    m = L[startIndx]\n",
    "    idx = startIndx\n",
    "    for i in range(startIndx,len(L)):\n",
    "        x = L[i]\n",
    "        if x<m:\n",
    "            m = x\n",
    "            idx = i\n",
    "        else:\n",
    "            pass\n",
    "    return m,idx"
   ]
  },
  {
   "cell_type": "code",
   "execution_count": 134,
   "id": "1d4d6494",
   "metadata": {},
   "outputs": [],
   "source": [
    "def swapValues(L,idx1,idx2):\n",
    "    tmp = L[idx1]\n",
    "    L[idx1] = L[idx2]\n",
    "    L[idx2] =tmp\n",
    "    return L"
   ]
  },
  {
   "cell_type": "code",
   "execution_count": 135,
   "id": "39936883",
   "metadata": {},
   "outputs": [
    {
     "name": "stdout",
     "output_type": "stream",
     "text": [
      "[2, 7, 6, 3]\n"
     ]
    }
   ],
   "source": [
    "L = [2,3,6,7]\n",
    "L2 =swapValues(L,1,3)\n",
    "print(L2)"
   ]
  },
  {
   "cell_type": "code",
   "execution_count": 136,
   "id": "cf7ca29f",
   "metadata": {},
   "outputs": [],
   "source": [
    "import sys\n",
    "sys.path.append('C:/ABCD/')"
   ]
  },
  {
   "cell_type": "code",
   "execution_count": 137,
   "id": "02ed73d1",
   "metadata": {},
   "outputs": [],
   "source": [
    "from My_Universal_functions import checkIfNotNumeric\n",
    "def sortList(L):\n",
    "    if not(checkIfNotNumeric2(L)):\n",
    "        print(\"Error: List does not contain numeric values\")\n",
    "        return\n",
    "    else:\n",
    "        c = 0\n",
    "        for x in L:     #for every element in the list\n",
    "            m,idx = findMin(L,c)\n",
    "            L = swapValues(L,c,idx)\n",
    "            c+=1\n",
    "        return L"
   ]
  },
  {
   "cell_type": "code",
   "execution_count": 138,
   "id": "258317d9",
   "metadata": {},
   "outputs": [
    {
     "name": "stdout",
     "output_type": "stream",
     "text": [
      "[2, 7, 6, 3]\n"
     ]
    }
   ],
   "source": [
    "print(L2)"
   ]
  },
  {
   "cell_type": "code",
   "execution_count": 139,
   "id": "e1391299",
   "metadata": {},
   "outputs": [
    {
     "name": "stdout",
     "output_type": "stream",
     "text": [
      "True\n"
     ]
    }
   ],
   "source": [
    "print(checkIfNotNumeric2([2,1,5,3,8,17]))"
   ]
  },
  {
   "cell_type": "code",
   "execution_count": 140,
   "id": "ba577478",
   "metadata": {},
   "outputs": [],
   "source": [
    "def checkIfNotNumeric2(L):\n",
    "    for x in L:\n",
    "        if not(isinstance(x,(int,float))):\n",
    "            return False\n",
    "    return True"
   ]
  },
  {
   "cell_type": "code",
   "execution_count": 1,
   "id": "2a8a310e",
   "metadata": {},
   "outputs": [
    {
     "name": "stdout",
     "output_type": "stream",
     "text": [
      "<class 'str'>\n"
     ]
    }
   ],
   "source": [
    "s = \"Python is a high-level languge\"\n",
    "t = 'It is good for data science'\n",
    "print(type(s))"
   ]
  },
  {
   "cell_type": "code",
   "execution_count": 2,
   "id": "2a38a947",
   "metadata": {},
   "outputs": [
    {
     "name": "stdout",
     "output_type": "stream",
     "text": [
      "Python is a high-level languge\n"
     ]
    }
   ],
   "source": [
    "print(s)"
   ]
  },
  {
   "cell_type": "code",
   "execution_count": 5,
   "id": "8dcfeac6",
   "metadata": {},
   "outputs": [],
   "source": [
    "v = s+t"
   ]
  },
  {
   "cell_type": "code",
   "execution_count": 9,
   "id": "5fc0b483",
   "metadata": {},
   "outputs": [
    {
     "name": "stdout",
     "output_type": "stream",
     "text": [
      "Python is a high-level languge It is good for data science\n"
     ]
    }
   ],
   "source": [
    "print(s+\" \"+t)"
   ]
  },
  {
   "cell_type": "code",
   "execution_count": 12,
   "id": "b73ccd0b",
   "metadata": {},
   "outputs": [
    {
     "name": "stdout",
     "output_type": "stream",
     "text": [
      "The price of this book is: 12\n"
     ]
    }
   ],
   "source": [
    "price =12\n",
    "s = \"The price of this book is: \"\n",
    "v = s + str(price)\n",
    "print(v)"
   ]
  },
  {
   "cell_type": "code",
   "execution_count": 13,
   "id": "5e91be99",
   "metadata": {},
   "outputs": [
    {
     "name": "stdout",
     "output_type": "stream",
     "text": [
      "This is line 1\n",
      "This is line 2\n",
      "and this is the last line, it is line 3\n",
      "\n"
     ]
    }
   ],
   "source": [
    "a = \"\"\"This is line 1\n",
    "This is line 2\n",
    "and this is the last line, it is line 3\n",
    "\"\"\"\n",
    "print(a)"
   ]
  },
  {
   "cell_type": "code",
   "execution_count": 14,
   "id": "3d86e973",
   "metadata": {},
   "outputs": [
    {
     "name": "stdout",
     "output_type": "stream",
     "text": [
      "The following are available:\n",
      "            -a     :does nothing\n",
      "            -b      :does something\n",
      "\n"
     ]
    }
   ],
   "source": [
    "print(\"\"\"The following are available:\n",
    "            -a     :does nothing\n",
    "            -b      :does something\n",
    "\"\"\")"
   ]
  },
  {
   "cell_type": "code",
   "execution_count": 15,
   "id": "f66464e0",
   "metadata": {},
   "outputs": [
    {
     "name": "stdout",
     "output_type": "stream",
     "text": [
      "r\n"
     ]
    }
   ],
   "source": [
    "# element are accessed with [] and the indexing starts form 0\n",
    "\n",
    "s =\"How are you and who are you\"\n",
    "print(s[5])"
   ]
  },
  {
   "cell_type": "code",
   "execution_count": 16,
   "id": "827158a5",
   "metadata": {},
   "outputs": [
    {
     "data": {
      "text/plain": [
       "str"
      ]
     },
     "execution_count": 16,
     "metadata": {},
     "output_type": "execute_result"
    }
   ],
   "source": [
    "type(s[5])"
   ]
  },
  {
   "cell_type": "code",
   "execution_count": 19,
   "id": "e28d00c6",
   "metadata": {},
   "outputs": [
    {
     "data": {
      "text/plain": [
       "'How are yo'"
      ]
     },
     "execution_count": 19,
     "metadata": {},
     "output_type": "execute_result"
    }
   ],
   "source": [
    "s[0:10]"
   ]
  },
  {
   "cell_type": "code",
   "execution_count": 20,
   "id": "4c955ce7",
   "metadata": {},
   "outputs": [
    {
     "data": {
      "text/plain": [
       "'u'"
      ]
     },
     "execution_count": 20,
     "metadata": {},
     "output_type": "execute_result"
    }
   ],
   "source": [
    "s[-1]"
   ]
  },
  {
   "cell_type": "code",
   "execution_count": 21,
   "id": "88bc19ed",
   "metadata": {},
   "outputs": [
    {
     "data": {
      "text/plain": [
       "' '"
      ]
     },
     "execution_count": 21,
     "metadata": {},
     "output_type": "execute_result"
    }
   ],
   "source": [
    "s[-4]"
   ]
  },
  {
   "cell_type": "code",
   "execution_count": 23,
   "id": "866343a1",
   "metadata": {},
   "outputs": [
    {
     "data": {
      "text/plain": [
       "' are '"
      ]
     },
     "execution_count": 23,
     "metadata": {},
     "output_type": "execute_result"
    }
   ],
   "source": [
    "s[-8:-3]  #he last number will not be included in the count"
   ]
  },
  {
   "cell_type": "code",
   "execution_count": 25,
   "id": "de96ddbc",
   "metadata": {},
   "outputs": [
    {
     "data": {
      "text/plain": [
       "' who are '"
      ]
     },
     "execution_count": 25,
     "metadata": {},
     "output_type": "execute_result"
    }
   ],
   "source": [
    "s[-12:-3]  "
   ]
  },
  {
   "cell_type": "code",
   "execution_count": 26,
   "id": "00ab5256",
   "metadata": {},
   "outputs": [
    {
     "data": {
      "text/plain": [
       "'Hwaeyu'"
      ]
     },
     "execution_count": 26,
     "metadata": {},
     "output_type": "execute_result"
    }
   ],
   "source": [
    "s[0:12:2]"
   ]
  },
  {
   "cell_type": "code",
   "execution_count": 30,
   "id": "706c1f6e",
   "metadata": {},
   "outputs": [
    {
     "data": {
      "text/plain": [
       "'How are you '"
      ]
     },
     "execution_count": 30,
     "metadata": {},
     "output_type": "execute_result"
    }
   ],
   "source": [
    "#s[startIndex:endIndex:stepSize]    #this is the general way of slice indexing\n",
    "\n",
    "s[:12]"
   ]
  },
  {
   "cell_type": "code",
   "execution_count": 32,
   "id": "93ac84db",
   "metadata": {},
   "outputs": [
    {
     "data": {
      "text/plain": [
       "' are you and who are you'"
      ]
     },
     "execution_count": 32,
     "metadata": {},
     "output_type": "execute_result"
    }
   ],
   "source": [
    "s[3:]"
   ]
  },
  {
   "cell_type": "code",
   "execution_count": 34,
   "id": "62570a3a",
   "metadata": {},
   "outputs": [
    {
     "data": {
      "text/plain": [
       "'ow are you '"
      ]
     },
     "execution_count": 34,
     "metadata": {},
     "output_type": "execute_result"
    }
   ],
   "source": [
    "s[1:12]"
   ]
  },
  {
   "cell_type": "code",
   "execution_count": 36,
   "id": "4e60d2c0",
   "metadata": {},
   "outputs": [
    {
     "data": {
      "text/plain": [
       "'uoy era ohw dna uoy era woH'"
      ]
     },
     "execution_count": 36,
     "metadata": {},
     "output_type": "execute_result"
    }
   ],
   "source": [
    "s[::-1]   #this starts from -1 in the reverse form"
   ]
  },
  {
   "cell_type": "code",
   "execution_count": 39,
   "id": "2efeae9f",
   "metadata": {},
   "outputs": [
    {
     "name": "stdout",
     "output_type": "stream",
     "text": [
      "I am       available\n"
     ]
    }
   ],
   "source": [
    "a =\"     I am       available   \"   #the strip function eliminates spaces from a string leaving the space in between\n",
    "b = a.strip()\n",
    "print(b)"
   ]
  },
  {
   "cell_type": "code",
   "execution_count": 41,
   "id": "95169e33",
   "metadata": {},
   "outputs": [
    {
     "name": "stdout",
     "output_type": "stream",
     "text": [
      "abc defg ;;  sadfa qf\n"
     ]
    }
   ],
   "source": [
    "a = \"ABC deFg ;;  sadfa QF\"    #the lower function changes capital letters to small letters\n",
    "b = a.lower()\n",
    "print(b)"
   ]
  },
  {
   "cell_type": "code",
   "execution_count": 43,
   "id": "a3ac2dad",
   "metadata": {},
   "outputs": [
    {
     "name": "stdout",
     "output_type": "stream",
     "text": [
      "ABCDEF\n"
     ]
    }
   ],
   "source": [
    "c =\"abcdef\"   #The upper function changes small letter to capital letters\n",
    "d =c.upper()\n",
    "print(d)"
   ]
  },
  {
   "cell_type": "code",
   "execution_count": 48,
   "id": "df73e514",
   "metadata": {},
   "outputs": [
    {
     "name": "stdout",
     "output_type": "stream",
     "text": [
      "ABC deFg %%  sadfa QF\n"
     ]
    }
   ],
   "source": [
    "L = a.replace(\";\" , \"%\")  #The replace function replace elements assigned e.g replace ; with %\n",
    "print(L)"
   ]
  },
  {
   "cell_type": "code",
   "execution_count": 50,
   "id": "fbf65bfd",
   "metadata": {},
   "outputs": [
    {
     "name": "stdout",
     "output_type": "stream",
     "text": [
      "ABC deFg two semi-colons  sadfa QF\n"
     ]
    }
   ],
   "source": [
    "L = a.replace(\";;\" , \"two semi-colons\")\n",
    "print(L)"
   ]
  },
  {
   "cell_type": "code",
   "execution_count": 62,
   "id": "bcc1687b",
   "metadata": {},
   "outputs": [
    {
     "name": "stdout",
     "output_type": "stream",
     "text": [
      "['ABC', 'deFg', 'sadfa', 'QF', 'dEf']\n"
     ]
    }
   ],
   "source": [
    "a = \"ABC;deFg;sadfa;QF;dEf\"   #The split functin gives spaces to element eg where ther is ; make a space\n",
    "L= a.split(\";\")\n",
    "print(L)"
   ]
  },
  {
   "cell_type": "code",
   "execution_count": 63,
   "id": "32e3afea",
   "metadata": {},
   "outputs": [
    {
     "data": {
      "text/plain": [
       "'ABC'"
      ]
     },
     "execution_count": 63,
     "metadata": {},
     "output_type": "execute_result"
    }
   ],
   "source": [
    "L[\n",
    "    0]   #calling index, remember the first element starts counting from 0"
   ]
  },
  {
   "cell_type": "code",
   "execution_count": 64,
   "id": "92ce5031",
   "metadata": {},
   "outputs": [
    {
     "data": {
      "text/plain": [
       "'dEf'"
      ]
     },
     "execution_count": 64,
     "metadata": {},
     "output_type": "execute_result"
    }
   ],
   "source": [
    "L[4]"
   ]
  },
  {
   "cell_type": "code",
   "execution_count": 65,
   "id": "79fd95af",
   "metadata": {},
   "outputs": [
    {
     "data": {
      "text/plain": [
       "<function str.encode(encoding='utf-8', errors='strict')>"
      ]
     },
     "execution_count": 65,
     "metadata": {},
     "output_type": "execute_result"
    }
   ],
   "source": [
    "a.upper   #To see more string functions available, simply (type any letter dot tab)\n",
    "a.casefold\n",
    "a.format\n",
    "b.remove   #and many more functons available\n",
    "c.encode"
   ]
  },
  {
   "cell_type": "code",
   "execution_count": 67,
   "id": "92d04f02",
   "metadata": {},
   "outputs": [
    {
     "name": "stdout",
     "output_type": "stream",
     "text": [
      "Abc;defg;sadfa;qf;def\n"
     ]
    }
   ],
   "source": [
    "print(a.capitalize())   #capitalizes only the first character"
   ]
  },
  {
   "cell_type": "code",
   "execution_count": 4,
   "id": "758c1b47",
   "metadata": {},
   "outputs": [
    {
     "data": {
      "text/plain": [
       "False"
      ]
     },
     "execution_count": 4,
     "metadata": {},
     "output_type": "execute_result"
    }
   ],
   "source": [
    "\"abc\" in \"aknlsknlkjcoijcio;jclkanvdm\"   #in sting function calls out the element in another string"
   ]
  },
  {
   "cell_type": "code",
   "execution_count": 5,
   "id": "339f13a6",
   "metadata": {},
   "outputs": [
    {
     "data": {
      "text/plain": [
       "True"
      ]
     },
     "execution_count": 5,
     "metadata": {},
     "output_type": "execute_result"
    }
   ],
   "source": [
    "\"abc\" in \"smknjkhcsjhjkscnauhuihlnabc\""
   ]
  },
  {
   "cell_type": "code",
   "execution_count": 6,
   "id": "81b95744",
   "metadata": {},
   "outputs": [
    {
     "data": {
      "text/plain": [
       "True"
      ]
     },
     "execution_count": 6,
     "metadata": {},
     "output_type": "execute_result"
    }
   ],
   "source": [
    "\"abc\" == \"abc\""
   ]
  },
  {
   "cell_type": "code",
   "execution_count": 8,
   "id": "9c032130",
   "metadata": {},
   "outputs": [
    {
     "data": {
      "text/plain": [
       "True"
      ]
     },
     "execution_count": 8,
     "metadata": {},
     "output_type": "execute_result"
    }
   ],
   "source": [
    "\"abcdefghi\" < \"def\""
   ]
  },
  {
   "cell_type": "code",
   "execution_count": 9,
   "id": "115fde33",
   "metadata": {},
   "outputs": [
    {
     "data": {
      "text/plain": [
       "True"
      ]
     },
     "execution_count": 9,
     "metadata": {},
     "output_type": "execute_result"
    }
   ],
   "source": [
    "\"$%\" < \"*&\""
   ]
  },
  {
   "cell_type": "code",
   "execution_count": 10,
   "id": "6e385c65",
   "metadata": {},
   "outputs": [
    {
     "name": "stdout",
     "output_type": "stream",
     "text": [
      "we are learning \"string\" here\n"
     ]
    }
   ],
   "source": [
    "print(\"we are learning \\\"string\\\" here\")"
   ]
  },
  {
   "cell_type": "code",
   "execution_count": 12,
   "id": "04d9eb72",
   "metadata": {},
   "outputs": [
    {
     "name": "stdout",
     "output_type": "stream",
     "text": [
      "we are learning \"string\" here\n"
     ]
    }
   ],
   "source": [
    "print('we are learning \"string\" here')"
   ]
  },
  {
   "cell_type": "code",
   "execution_count": 17,
   "id": "16069f9d",
   "metadata": {},
   "outputs": [
    {
     "name": "stdout",
     "output_type": "stream",
     "text": [
      "we are \t now on another line\n"
     ]
    }
   ],
   "source": [
    "print(\"we are \\t now on another line\")"
   ]
  },
  {
   "cell_type": "code",
   "execution_count": 21,
   "id": "4ceddeb7",
   "metadata": {},
   "outputs": [
    {
     "name": "stdout",
     "output_type": "stream",
     "text": [
      "c:/name/drive\n"
     ]
    }
   ],
   "source": [
    "print(\"c:/name/drive\")"
   ]
  },
  {
   "cell_type": "markdown",
   "id": "ce9e5028",
   "metadata": {},
   "source": [
    "# Data Structures"
   ]
  },
  {
   "cell_type": "code",
   "execution_count": 8,
   "id": "44164be4",
   "metadata": {},
   "outputs": [],
   "source": [
    "#How to define List, set, tuple and dictionary\n",
    "\n",
    "L =[1,3,4,9,\"name\",3]\n",
    "T =(1,3,4,9,\"name\",3)\n",
    "S ={1,3,4,9,\"name\",3}\n",
    "D ={23:\"twothree\",'B':43,'C':'CD'}"
   ]
  },
  {
   "cell_type": "code",
   "execution_count": 9,
   "id": "e625fe20",
   "metadata": {},
   "outputs": [
    {
     "name": "stdout",
     "output_type": "stream",
     "text": [
      "The type of L is <class 'list'>\n",
      "The type of T is <class 'tuple'>\n",
      "The type of S is <class 'set'>\n",
      "The type of D is <class 'dict'>\n"
     ]
    }
   ],
   "source": [
    "print(\"The type of L is\", type(L))\n",
    "print(\"The type of T is\", type(T))\n",
    "print(\"The type of S is\", type(S))\n",
    "print(\"The type of D is\", type(D))"
   ]
  },
  {
   "cell_type": "code",
   "execution_count": 10,
   "id": "9ee381da",
   "metadata": {},
   "outputs": [
    {
     "name": "stdout",
     "output_type": "stream",
     "text": [
      "3\n",
      "3\n",
      "True\n",
      "twothree\n"
     ]
    }
   ],
   "source": [
    "# accessing values in structures\n",
    "\n",
    "print(L[1])\n",
    "print(T[1])\n",
    "print(3 in S)\n",
    "print(D[23])"
   ]
  },
  {
   "cell_type": "code",
   "execution_count": 11,
   "id": "89679d6e",
   "metadata": {},
   "outputs": [
    {
     "name": "stdout",
     "output_type": "stream",
     "text": [
      "43\n"
     ]
    }
   ],
   "source": [
    "print(D['B'])"
   ]
  },
  {
   "cell_type": "code",
   "execution_count": 12,
   "id": "79ffdcbf",
   "metadata": {},
   "outputs": [],
   "source": [
    "L =[1,3,4.9,\"name\",3]"
   ]
  },
  {
   "cell_type": "code",
   "execution_count": 13,
   "id": "84bd118a",
   "metadata": {},
   "outputs": [
    {
     "data": {
      "text/plain": [
       "[3, 4.9]"
      ]
     },
     "execution_count": 13,
     "metadata": {},
     "output_type": "execute_result"
    }
   ],
   "source": [
    "L[1:3]   #it will stop at a number before the number written"
   ]
  },
  {
   "cell_type": "code",
   "execution_count": 14,
   "id": "990939b2",
   "metadata": {},
   "outputs": [
    {
     "data": {
      "text/plain": [
       "[3, 4.9, 'name']"
      ]
     },
     "execution_count": 14,
     "metadata": {},
     "output_type": "execute_result"
    }
   ],
   "source": [
    "L[1:4]"
   ]
  },
  {
   "cell_type": "code",
   "execution_count": 15,
   "id": "0e8f6d82",
   "metadata": {},
   "outputs": [
    {
     "data": {
      "text/plain": [
       "[3, 'name', 4.9, 3, 1]"
      ]
     },
     "execution_count": 15,
     "metadata": {},
     "output_type": "execute_result"
    }
   ],
   "source": [
    "L[::-1]     #it reserves the number"
   ]
  },
  {
   "cell_type": "code",
   "execution_count": 16,
   "id": "507dffb5",
   "metadata": {},
   "outputs": [],
   "source": [
    "#Tuple indexing and List are thesame. counts from 0 just like in string\n",
    "\n",
    "# \"+\" and \"append\" can be used to add one element to List"
   ]
  },
  {
   "cell_type": "code",
   "execution_count": 17,
   "id": "a8b0b312",
   "metadata": {},
   "outputs": [
    {
     "name": "stdout",
     "output_type": "stream",
     "text": [
      "[1, 3, 4.9, 'name', 3, 'how', 'are', '6', 'you']\n"
     ]
    }
   ],
   "source": [
    "L = L + [\"how\", \"are\", \"6\", \"you\"]\n",
    "print(L)"
   ]
  },
  {
   "cell_type": "code",
   "execution_count": 18,
   "id": "8756c5df",
   "metadata": {},
   "outputs": [
    {
     "name": "stdout",
     "output_type": "stream",
     "text": [
      "[1, 3, 4.9, 'name', 3, 'how', 'are', '6', 'you', 6.8]\n"
     ]
    }
   ],
   "source": [
    "L.append(6.8)\n",
    "print(L)"
   ]
  },
  {
   "cell_type": "code",
   "execution_count": 19,
   "id": "7c70c466",
   "metadata": {},
   "outputs": [
    {
     "name": "stdout",
     "output_type": "stream",
     "text": [
      "(1, 3, 4, 9, 'name', 3, 2, 4, 'count')\n"
     ]
    }
   ],
   "source": [
    "T2 = (2,4,\"count\")\n",
    "T3 = T + T2\n",
    "print(T3)"
   ]
  },
  {
   "cell_type": "code",
   "execution_count": 20,
   "id": "bde647b2",
   "metadata": {},
   "outputs": [
    {
     "name": "stdout",
     "output_type": "stream",
     "text": [
      "{'name', 1, 3, 4, 56, 9}\n"
     ]
    }
   ],
   "source": [
    "S.add(56)\n",
    "print(S)"
   ]
  },
  {
   "cell_type": "code",
   "execution_count": 21,
   "id": "5da2ea0b",
   "metadata": {},
   "outputs": [
    {
     "data": {
      "text/plain": [
       "{1, 3, 4, 43, 56, 9, 'game', 'name'}"
      ]
     },
     "execution_count": 21,
     "metadata": {},
     "output_type": "execute_result"
    }
   ],
   "source": [
    "S.update([43,\"game\",1])\n",
    "S"
   ]
  },
  {
   "cell_type": "code",
   "execution_count": 22,
   "id": "519610c7",
   "metadata": {},
   "outputs": [
    {
     "data": {
      "text/plain": [
       "{23: 'twothree', 'B': 43, 'C': 'CD', 'newkey': 'newValue'}"
      ]
     },
     "execution_count": 22,
     "metadata": {},
     "output_type": "execute_result"
    }
   ],
   "source": [
    "D['newkey'] = \"newValue\"\n",
    "D"
   ]
  },
  {
   "cell_type": "code",
   "execution_count": 23,
   "id": "f8ba9501",
   "metadata": {},
   "outputs": [],
   "source": [
    "D2= {\"Y\":\"YY\",\"Z\":10}"
   ]
  },
  {
   "cell_type": "code",
   "execution_count": 24,
   "id": "2c11ed69",
   "metadata": {},
   "outputs": [
    {
     "data": {
      "text/plain": [
       "{23: 'twothree', 'B': 43, 'C': 'CD', 'newkey': 'newValue', 'Y': 'YY', 'Z': 10}"
      ]
     },
     "execution_count": 24,
     "metadata": {},
     "output_type": "execute_result"
    }
   ],
   "source": [
    "D.update(D2)\n",
    "D"
   ]
  },
  {
   "cell_type": "code",
   "execution_count": 25,
   "id": "3e402bd5",
   "metadata": {},
   "outputs": [
    {
     "data": {
      "text/plain": [
       "[1, 3, 4.9, 'name', 3, 'how', 'are', '6', 'you', 6.8]"
      ]
     },
     "execution_count": 25,
     "metadata": {},
     "output_type": "execute_result"
    }
   ],
   "source": [
    "L"
   ]
  },
  {
   "cell_type": "code",
   "execution_count": 26,
   "id": "2a5fc894",
   "metadata": {},
   "outputs": [],
   "source": [
    "L3 =L[1:5]"
   ]
  },
  {
   "cell_type": "code",
   "execution_count": 27,
   "id": "3559423d",
   "metadata": {},
   "outputs": [
    {
     "data": {
      "text/plain": [
       "[3, 4.9, 'name', 3]"
      ]
     },
     "execution_count": 27,
     "metadata": {},
     "output_type": "execute_result"
    }
   ],
   "source": [
    "L3"
   ]
  },
  {
   "cell_type": "code",
   "execution_count": 28,
   "id": "b6189b22",
   "metadata": {},
   "outputs": [
    {
     "data": {
      "text/plain": [
       "[6.8, 'you', '6', 'are', 'how', 3, 'name', 4.9, 3, 1]"
      ]
     },
     "execution_count": 28,
     "metadata": {},
     "output_type": "execute_result"
    }
   ],
   "source": [
    "L[::-1]"
   ]
  },
  {
   "cell_type": "code",
   "execution_count": 29,
   "id": "18c97961",
   "metadata": {},
   "outputs": [
    {
     "data": {
      "text/plain": [
       "[1, 3, 4.9, 'name', 3, 'how', 'are', '6', 'you', 6.8]"
      ]
     },
     "execution_count": 29,
     "metadata": {},
     "output_type": "execute_result"
    }
   ],
   "source": [
    "L"
   ]
  },
  {
   "cell_type": "code",
   "execution_count": 30,
   "id": "867844d7",
   "metadata": {},
   "outputs": [
    {
     "data": {
      "text/plain": [
       "{1, 3, 4, 43, 56, 9, 'game', 'name'}"
      ]
     },
     "execution_count": 30,
     "metadata": {},
     "output_type": "execute_result"
    }
   ],
   "source": [
    "S"
   ]
  },
  {
   "cell_type": "code",
   "execution_count": 31,
   "id": "3f521914",
   "metadata": {},
   "outputs": [
    {
     "data": {
      "text/plain": [
       "(1, 3, 4, 9, 'name', 3)"
      ]
     },
     "execution_count": 31,
     "metadata": {},
     "output_type": "execute_result"
    }
   ],
   "source": [
    "T"
   ]
  },
  {
   "cell_type": "code",
   "execution_count": 32,
   "id": "f6820ec5",
   "metadata": {},
   "outputs": [
    {
     "data": {
      "text/plain": [
       "{23: 'twothree', 'B': 43, 'C': 'CD', 'newkey': 'newValue', 'Y': 'YY', 'Z': 10}"
      ]
     },
     "execution_count": 32,
     "metadata": {},
     "output_type": "execute_result"
    }
   ],
   "source": [
    "D"
   ]
  },
  {
   "cell_type": "code",
   "execution_count": 33,
   "id": "824b3db4",
   "metadata": {},
   "outputs": [],
   "source": [
    "D2 = {'A':L, 'B':T, 'C':S, 'D':D}"
   ]
  },
  {
   "cell_type": "code",
   "execution_count": 34,
   "id": "7ca37fe3",
   "metadata": {},
   "outputs": [
    {
     "data": {
      "text/plain": [
       "[1, 3, 4.9, 'name', 3, 'how', 'are', '6', 'you', 6.8]"
      ]
     },
     "execution_count": 34,
     "metadata": {},
     "output_type": "execute_result"
    }
   ],
   "source": [
    "D2['A']"
   ]
  },
  {
   "cell_type": "code",
   "execution_count": 35,
   "id": "d848c62c",
   "metadata": {},
   "outputs": [
    {
     "data": {
      "text/plain": [
       "'name'"
      ]
     },
     "execution_count": 35,
     "metadata": {},
     "output_type": "execute_result"
    }
   ],
   "source": [
    "D2['A'][3]"
   ]
  },
  {
   "cell_type": "code",
   "execution_count": 36,
   "id": "8ac8da05",
   "metadata": {},
   "outputs": [],
   "source": [
    "K = D2['D']"
   ]
  },
  {
   "cell_type": "code",
   "execution_count": 37,
   "id": "73b8fc34",
   "metadata": {},
   "outputs": [
    {
     "data": {
      "text/plain": [
       "{23: 'twothree', 'B': 43, 'C': 'CD', 'newkey': 'newValue', 'Y': 'YY', 'Z': 10}"
      ]
     },
     "execution_count": 37,
     "metadata": {},
     "output_type": "execute_result"
    }
   ],
   "source": [
    "K"
   ]
  },
  {
   "cell_type": "code",
   "execution_count": 38,
   "id": "4b32ee20",
   "metadata": {},
   "outputs": [
    {
     "name": "stdout",
     "output_type": "stream",
     "text": [
      "23 twothree\n",
      "B 43\n",
      "C CD\n",
      "newkey newValue\n",
      "Y YY\n",
      "Z 10\n"
     ]
    }
   ],
   "source": [
    "for x in K:      #prints the value and the key element\n",
    "    print(x,K[x])"
   ]
  },
  {
   "cell_type": "code",
   "execution_count": 39,
   "id": "8e64f131",
   "metadata": {},
   "outputs": [],
   "source": [
    "L3 = [L,T,D,23,\"game\"]"
   ]
  },
  {
   "cell_type": "code",
   "execution_count": 40,
   "id": "dfcb643b",
   "metadata": {},
   "outputs": [
    {
     "data": {
      "text/plain": [
       "dict"
      ]
     },
     "execution_count": 40,
     "metadata": {},
     "output_type": "execute_result"
    }
   ],
   "source": [
    "type(L3[2])"
   ]
  },
  {
   "cell_type": "code",
   "execution_count": 42,
   "id": "19a3cf61",
   "metadata": {},
   "outputs": [
    {
     "data": {
      "text/plain": [
       "tuple"
      ]
     },
     "execution_count": 42,
     "metadata": {},
     "output_type": "execute_result"
    }
   ],
   "source": [
    "type(L3[1])"
   ]
  },
  {
   "cell_type": "code",
   "execution_count": 44,
   "id": "c94f791a",
   "metadata": {},
   "outputs": [
    {
     "data": {
      "text/plain": [
       "str"
      ]
     },
     "execution_count": 44,
     "metadata": {},
     "output_type": "execute_result"
    }
   ],
   "source": [
    "type(L3[4])"
   ]
  },
  {
   "cell_type": "code",
   "execution_count": 45,
   "id": "45765e29",
   "metadata": {},
   "outputs": [
    {
     "data": {
      "text/plain": [
       "int"
      ]
     },
     "execution_count": 45,
     "metadata": {},
     "output_type": "execute_result"
    }
   ],
   "source": [
    "type(L3[3])"
   ]
  },
  {
   "cell_type": "code",
   "execution_count": 56,
   "id": "96cbf123",
   "metadata": {},
   "outputs": [],
   "source": [
    "L3 = [x**2 for x in range (10)]  #this raise the numbers from 0 to 9 to the power of two"
   ]
  },
  {
   "cell_type": "code",
   "execution_count": 57,
   "id": "100ad093",
   "metadata": {},
   "outputs": [
    {
     "data": {
      "text/plain": [
       "[0, 1, 4, 9, 16, 25, 36, 49, 64, 81]"
      ]
     },
     "execution_count": 57,
     "metadata": {},
     "output_type": "execute_result"
    }
   ],
   "source": [
    "L3"
   ]
  },
  {
   "cell_type": "code",
   "execution_count": 62,
   "id": "d5c2780f",
   "metadata": {},
   "outputs": [
    {
     "data": {
      "text/plain": [
       "[0, 1, 4, 9, 16, 25, 36, 49, 64, 81, 100, 121, 144, 169, 196]"
      ]
     },
     "execution_count": 62,
     "metadata": {},
     "output_type": "execute_result"
    }
   ],
   "source": [
    "L3 = [x**2 for x in range (15)] \n",
    "L3"
   ]
  },
  {
   "cell_type": "code",
   "execution_count": 63,
   "id": "f9cfa10c",
   "metadata": {},
   "outputs": [
    {
     "data": {
      "text/plain": [
       "{4, 25, 64, 121, 196, 289}"
      ]
     },
     "execution_count": 63,
     "metadata": {},
     "output_type": "execute_result"
    }
   ],
   "source": [
    "S3 = {x**2 for x in range (2, 20, 3)}\n",
    "S3"
   ]
  },
  {
   "cell_type": "code",
   "execution_count": 10,
   "id": "b5b89c77",
   "metadata": {},
   "outputs": [],
   "source": [
    "\"\"\"Lets say you are a teacher and you have different student records containing\n",
    "id of a student and the marks list in each subjects where different students have taken differnet number of subjects. \n",
    "All these records are in hard copy. You want to enter all the data in computer and want to compute the average\n",
    "marks of each students and display\"\"\"\n",
    "\n",
    "\n",
    "def getDataFromUser():\n",
    "    D ={}\n",
    "    while True:\n",
    "        studentId = input(\"Enter student ID: \")\n",
    "        marksList =input(\"Enter the marks by coma separated values: \")\n",
    "        moreStudents =input('Enter \"no\" to quit insertion: ')\n",
    "        if studentId in D:\n",
    "            print(studentId, \"is already inserted\")\n",
    "        else:\n",
    "                D[studentId] = marksList.split(\",\")\n",
    "        if moreStudents.lower() == \"no\":\n",
    "                return D"
   ]
  },
  {
   "cell_type": "code",
   "execution_count": 11,
   "id": "5161c944",
   "metadata": {},
   "outputs": [
    {
     "name": "stdout",
     "output_type": "stream",
     "text": [
      "Enter student ID: 12\n",
      "Enter the marks by coma separated values: 34,34,34\n",
      "Enter \"no\" to quit insertion: Name\n",
      "Enter student ID: 32\n",
      "Enter the marks by coma separated values: 54,34,23\n",
      "Enter \"no\" to quit insertion: name\n",
      "Enter student ID: 14\n",
      "Enter the marks by coma separated values: 23,45,65\n",
      "Enter \"no\" to quit insertion: no\n"
     ]
    }
   ],
   "source": [
    "studentData = getDataFromUser()"
   ]
  },
  {
   "cell_type": "code",
   "execution_count": 12,
   "id": "917a7393",
   "metadata": {},
   "outputs": [
    {
     "data": {
      "text/plain": [
       "{'12': ['34', '34', '34'], '32': ['54', '34', '23'], '14': ['23', '45', '65']}"
      ]
     },
     "execution_count": 12,
     "metadata": {},
     "output_type": "execute_result"
    }
   ],
   "source": [
    "studentData"
   ]
  },
  {
   "cell_type": "code",
   "execution_count": 17,
   "id": "4ce1564f",
   "metadata": {},
   "outputs": [],
   "source": [
    "def getAvgMarks(D):\n",
    "    avgMarks ={}\n",
    "    for x in D:\n",
    "        L = D[x]\n",
    "        s = 0\n",
    "        for marks in L:\n",
    "             s += int(marks)\n",
    "        avgMarks[x] = s/len(L)\n",
    "        return avgMarks\n",
    "        "
   ]
  },
  {
   "cell_type": "code",
   "execution_count": 22,
   "id": "27f041e9",
   "metadata": {},
   "outputs": [
    {
     "data": {
      "text/plain": [
       "{'12': ['34', '34', '34'], '32': ['54', '34', '23'], '14': ['23', '45', '65']}"
      ]
     },
     "execution_count": 22,
     "metadata": {},
     "output_type": "execute_result"
    }
   ],
   "source": [
    "avgM = studentData\n",
    "avgM"
   ]
  },
  {
   "cell_type": "code",
   "execution_count": 23,
   "id": "55e828dd",
   "metadata": {},
   "outputs": [
    {
     "name": "stdout",
     "output_type": "stream",
     "text": [
      "Student : 12 got avg Marks as:  ['34', '34', '34']\n",
      "Student : 32 got avg Marks as:  ['54', '34', '23']\n",
      "Student : 14 got avg Marks as:  ['23', '45', '65']\n"
     ]
    }
   ],
   "source": [
    "for x in avgM:\n",
    "    print(\"Student :\",x,\"got avg Marks as: \",avgM[x])"
   ]
  },
  {
   "cell_type": "markdown",
   "id": "77a8d542",
   "metadata": {},
   "source": [
    "# Numpy"
   ]
  },
  {
   "cell_type": "code",
   "execution_count": 24,
   "id": "a4afda25",
   "metadata": {},
   "outputs": [],
   "source": [
    "import numpy as np"
   ]
  },
  {
   "cell_type": "code",
   "execution_count": 25,
   "id": "65d307fc",
   "metadata": {},
   "outputs": [],
   "source": [
    "a = np.array([1,2,3,4,5])"
   ]
  },
  {
   "cell_type": "code",
   "execution_count": 26,
   "id": "24e97e6e",
   "metadata": {},
   "outputs": [],
   "source": [
    "b = np.array((1,2,3,4,5))"
   ]
  },
  {
   "cell_type": "code",
   "execution_count": null,
   "id": "89dab0b4",
   "metadata": {},
   "outputs": [],
   "source": [
    "a"
   ]
  },
  {
   "cell_type": "code",
   "execution_count": 28,
   "id": "8520a797",
   "metadata": {},
   "outputs": [
    {
     "name": "stdout",
     "output_type": "stream",
     "text": [
      "<class 'numpy.ndarray'>\n"
     ]
    }
   ],
   "source": [
    "print(type(a))"
   ]
  },
  {
   "cell_type": "code",
   "execution_count": 29,
   "id": "35edec6d",
   "metadata": {},
   "outputs": [
    {
     "data": {
      "text/plain": [
       "dtype('int32')"
      ]
     },
     "execution_count": 29,
     "metadata": {},
     "output_type": "execute_result"
    }
   ],
   "source": [
    "a.dtype   #to check data type"
   ]
  },
  {
   "cell_type": "code",
   "execution_count": 38,
   "id": "30fe4ec3",
   "metadata": {},
   "outputs": [],
   "source": [
    "import numpy as np\n",
    "\n",
    "a= np.array([[1,2,3], [4,5,6,]])"
   ]
  },
  {
   "cell_type": "code",
   "execution_count": 39,
   "id": "67040a9c",
   "metadata": {},
   "outputs": [
    {
     "data": {
      "text/plain": [
       "2"
      ]
     },
     "execution_count": 39,
     "metadata": {},
     "output_type": "execute_result"
    }
   ],
   "source": [
    "a.ndim    # to check number of dimensio array"
   ]
  },
  {
   "cell_type": "code",
   "execution_count": 40,
   "id": "b49f9bb3",
   "metadata": {},
   "outputs": [
    {
     "data": {
      "text/plain": [
       "3"
      ]
     },
     "execution_count": 40,
     "metadata": {},
     "output_type": "execute_result"
    }
   ],
   "source": [
    "a[0,2]"
   ]
  },
  {
   "cell_type": "code",
   "execution_count": 41,
   "id": "91ed6c59",
   "metadata": {},
   "outputs": [
    {
     "data": {
      "text/plain": [
       "6"
      ]
     },
     "execution_count": 41,
     "metadata": {},
     "output_type": "execute_result"
    }
   ],
   "source": [
    "a[1,2]"
   ]
  },
  {
   "cell_type": "code",
   "execution_count": 56,
   "id": "33469353",
   "metadata": {},
   "outputs": [],
   "source": [
    "import numpy as np\n",
    "B = np.array([[[1,2,3],[4,5,6],[7,8,9],[2,3,4],[3,4,5]],  [[0,1,2],[1,4,6], [3,4,5], [6,7,8],[2,3,5]]])"
   ]
  },
  {
   "cell_type": "code",
   "execution_count": 58,
   "id": "d3071547",
   "metadata": {},
   "outputs": [
    {
     "data": {
      "text/plain": [
       "3"
      ]
     },
     "execution_count": 58,
     "metadata": {},
     "output_type": "execute_result"
    }
   ],
   "source": [
    "B.ndim"
   ]
  },
  {
   "cell_type": "code",
   "execution_count": 59,
   "id": "5cfc47f0",
   "metadata": {},
   "outputs": [
    {
     "data": {
      "text/plain": [
       "8"
      ]
     },
     "execution_count": 59,
     "metadata": {},
     "output_type": "execute_result"
    }
   ],
   "source": [
    "B[1,3,2]   calling index"
   ]
  },
  {
   "cell_type": "code",
   "execution_count": 61,
   "id": "2208c185",
   "metadata": {},
   "outputs": [
    {
     "data": {
      "text/plain": [
       "numpy.ndarray"
      ]
     },
     "execution_count": 61,
     "metadata": {},
     "output_type": "execute_result"
    }
   ],
   "source": [
    "type(B)"
   ]
  },
  {
   "cell_type": "code",
   "execution_count": 62,
   "id": "ce1a3522",
   "metadata": {},
   "outputs": [
    {
     "data": {
      "text/plain": [
       "(2, 5, 3)"
      ]
     },
     "execution_count": 62,
     "metadata": {},
     "output_type": "execute_result"
    }
   ],
   "source": [
    "B.shape"
   ]
  },
  {
   "cell_type": "code",
   "execution_count": 63,
   "id": "74710868",
   "metadata": {},
   "outputs": [
    {
     "data": {
      "text/plain": [
       "30"
      ]
     },
     "execution_count": 63,
     "metadata": {},
     "output_type": "execute_result"
    }
   ],
   "source": [
    "B.size  #the total amount of all element in B"
   ]
  },
  {
   "cell_type": "code",
   "execution_count": 64,
   "id": "8b3f351a",
   "metadata": {},
   "outputs": [
    {
     "data": {
      "text/plain": [
       "120"
      ]
     },
     "execution_count": 64,
     "metadata": {},
     "output_type": "execute_result"
    }
   ],
   "source": [
    "B.nbytes   #number of space its taking in the memory"
   ]
  },
  {
   "cell_type": "code",
   "execution_count": 65,
   "id": "023013ac",
   "metadata": {},
   "outputs": [
    {
     "data": {
      "text/plain": [
       "array([ 0,  1,  2,  3,  4,  5,  6,  7,  8,  9, 10, 11, 12, 13, 14, 15, 16,\n",
       "       17, 18, 19, 20, 21, 22, 23, 24, 25, 26, 27, 28, 29, 30, 31, 32, 33,\n",
       "       34, 35, 36, 37, 38, 39, 40, 41, 42, 43, 44, 45, 46, 47, 48, 49, 50,\n",
       "       51, 52, 53, 54, 55, 56, 57, 58, 59, 60, 61, 62, 63, 64, 65, 66, 67,\n",
       "       68, 69, 70, 71, 72, 73, 74, 75, 76, 77, 78, 79, 80, 81, 82, 83, 84,\n",
       "       85, 86, 87, 88, 89, 90, 91, 92, 93, 94, 95, 96, 97, 98, 99])"
      ]
     },
     "execution_count": 65,
     "metadata": {},
     "output_type": "execute_result"
    }
   ],
   "source": [
    "A = np.arange(100)\n",
    "A"
   ]
  },
  {
   "cell_type": "code",
   "execution_count": 67,
   "id": "0f5a2239",
   "metadata": {},
   "outputs": [
    {
     "data": {
      "text/plain": [
       "array([20, 21, 22, 23, 24, 25, 26, 27, 28, 29, 30, 31, 32, 33, 34, 35, 36,\n",
       "       37, 38, 39, 40, 41, 42, 43, 44, 45, 46, 47, 48, 49, 50, 51, 52, 53,\n",
       "       54, 55, 56, 57, 58, 59, 60, 61, 62, 63, 64, 65, 66, 67, 68, 69, 70,\n",
       "       71, 72, 73, 74, 75, 76, 77, 78, 79, 80, 81, 82, 83, 84, 85, 86, 87,\n",
       "       88, 89, 90, 91, 92, 93, 94, 95, 96, 97, 98, 99])"
      ]
     },
     "execution_count": 67,
     "metadata": {},
     "output_type": "execute_result"
    }
   ],
   "source": [
    "A = np.arange(20,100)\n",
    "A"
   ]
  },
  {
   "cell_type": "code",
   "execution_count": 68,
   "id": "b9c99bf6",
   "metadata": {},
   "outputs": [
    {
     "data": {
      "text/plain": [
       "array([20, 25, 30, 35, 40, 45, 50, 55, 60, 65, 70, 75, 80, 85, 90, 95])"
      ]
     },
     "execution_count": 68,
     "metadata": {},
     "output_type": "execute_result"
    }
   ],
   "source": [
    "A = np.arange(20,100,5)   #similar thing with...for i in range(20,100,5)\n",
    "A"
   ]
  },
  {
   "cell_type": "code",
   "execution_count": 69,
   "id": "bda9c7f8",
   "metadata": {},
   "outputs": [
    {
     "name": "stdout",
     "output_type": "stream",
     "text": [
      "range(0, 10)\n"
     ]
    }
   ],
   "source": [
    "print(range(10))  iterator"
   ]
  },
  {
   "cell_type": "code",
   "execution_count": 70,
   "id": "ef5092f4",
   "metadata": {},
   "outputs": [
    {
     "name": "stdout",
     "output_type": "stream",
     "text": [
      "[0, 1, 2, 3, 4, 5, 6, 7, 8, 9]\n"
     ]
    }
   ],
   "source": [
    "print(list(range(10)))"
   ]
  },
  {
   "cell_type": "code",
   "execution_count": 71,
   "id": "d91ee077",
   "metadata": {},
   "outputs": [
    {
     "data": {
      "text/plain": [
       "array([6, 7, 8, 4, 9, 2, 0, 5, 3, 1])"
      ]
     },
     "execution_count": 71,
     "metadata": {},
     "output_type": "execute_result"
    }
   ],
   "source": [
    "A =np.random.permutation(np.arange(10))   #randomly arranges numbers\n",
    "A"
   ]
  },
  {
   "cell_type": "code",
   "execution_count": 72,
   "id": "c5843cf9",
   "metadata": {},
   "outputs": [
    {
     "data": {
      "text/plain": [
       "26"
      ]
     },
     "execution_count": 72,
     "metadata": {},
     "output_type": "execute_result"
    }
   ],
   "source": [
    "np.random.randint(20,30)"
   ]
  },
  {
   "cell_type": "code",
   "execution_count": 73,
   "id": "2839eb95",
   "metadata": {},
   "outputs": [
    {
     "data": {
      "text/plain": [
       "274"
      ]
     },
     "execution_count": 73,
     "metadata": {},
     "output_type": "execute_result"
    }
   ],
   "source": [
    "np.random.randint(200,300)  #this function returns random numbers from the number range given"
   ]
  },
  {
   "cell_type": "code",
   "execution_count": 82,
   "id": "d6d40b1f",
   "metadata": {},
   "outputs": [
    {
     "data": {
      "text/plain": [
       "array([0.72033319, 0.26106259, 0.2861509 , 0.24630006, 0.32669577,\n",
       "       0.83815954, 0.57694678, 0.29945867, 0.36281659, 0.90757926,\n",
       "       0.52251028, 0.13456701, 0.14633839, 0.27299808, 0.68967804,\n",
       "       0.61126861, 0.59283484, 0.06778765, 0.41772846, 0.97163752,\n",
       "       0.9746428 , 0.77262197, 0.5557613 , 0.8817967 , 0.12849563,\n",
       "       0.97374922, 0.18898968, 0.23978937, 0.20026   , 0.64927014,\n",
       "       0.9528699 , 0.71968114, 0.82408313, 0.14049114, 0.67945087,\n",
       "       0.85186559, 0.09899562, 0.96082311, 0.47670735, 0.91787853,\n",
       "       0.16769572, 0.35195702, 0.27580349, 0.10174309, 0.48162262,\n",
       "       0.82185791, 0.51644768, 0.8706042 , 0.60732361, 0.08655904,\n",
       "       0.28685433, 0.91771148, 0.53406513, 0.90173973, 0.58879863,\n",
       "       0.08245301, 0.97236759, 0.38358225, 0.77421955, 0.00764092,\n",
       "       0.61755413, 0.91279176, 0.24751661, 0.50580515, 0.56074479,\n",
       "       0.10746989, 0.53443185, 0.09938412, 0.09597554, 0.79616988,\n",
       "       0.90607619, 0.56274302, 0.28770474, 0.15260369, 0.86599633,\n",
       "       0.79458396, 0.29510817, 0.82800318, 0.55717752, 0.1106109 ,\n",
       "       0.49092519, 0.91106082, 0.7889444 , 0.29304315, 0.55927736,\n",
       "       0.5331221 , 0.07785048, 0.13842815, 0.55711006, 0.8279082 ,\n",
       "       0.84512625, 0.06485048, 0.62322919, 0.98249349, 0.08724327,\n",
       "       0.57679891, 0.30823199, 0.8896962 , 0.03851653, 0.60506648])"
      ]
     },
     "execution_count": 82,
     "metadata": {},
     "output_type": "execute_result"
    }
   ],
   "source": [
    "B = np.random.rand(100)  #random numbers btw 0 and 1\n",
    "B"
   ]
  },
  {
   "cell_type": "code",
   "execution_count": 83,
   "id": "b75bacf2",
   "metadata": {},
   "outputs": [
    {
     "name": "stderr",
     "output_type": "stream",
     "text": [
      "Matplotlib is building the font cache; this may take a moment.\n"
     ]
    },
    {
     "data": {
      "text/plain": [
       "(array([12., 11., 12.,  5.,  4., 15.,  9.,  4., 13., 15.]),\n",
       " array([0.00764092, 0.10512618, 0.20261143, 0.30009669, 0.39758195,\n",
       "        0.49506721, 0.59255246, 0.69003772, 0.78752298, 0.88500824,\n",
       "        0.98249349]),\n",
       " <BarContainer object of 10 artists>)"
      ]
     },
     "execution_count": 83,
     "metadata": {},
     "output_type": "execute_result"
    },
    {
     "data": {
      "image/png": "[encoded data removed]",
      "text/plain": [
       "<Figure size 640x480 with 1 Axes>"
      ]
     },
     "metadata": {},
     "output_type": "display_data"
    }
   ],
   "source": [
    "import matplotlib.pyplot as plt\n",
    "\n",
    "plt.hist(B)"
   ]
  },
  {
   "cell_type": "code",
   "execution_count": 85,
   "id": "cb583e9f",
   "metadata": {},
   "outputs": [
    {
     "data": {
      "text/plain": [
       "(array([1., 1., 1., 3., 6., 2., 4., 2., 1., 2., 0., 1., 3., 2., 6., 1., 1.,\n",
       "        1., 1., 1., 0., 1., 0., 0., 3., 1., 3., 2., 6., 3., 4., 2., 1., 0.,\n",
       "        2., 0., 2., 0., 0., 2., 3., 2., 4., 1., 3., 2., 6., 0., 2., 5.]),\n",
       " array([0.00764092, 0.02713797, 0.04663502, 0.06613207, 0.08562912,\n",
       "        0.10512618, 0.12462323, 0.14412028, 0.16361733, 0.18311438,\n",
       "        0.20261143, 0.22210848, 0.24160554, 0.26110259, 0.28059964,\n",
       "        0.30009669, 0.31959374, 0.33909079, 0.35858785, 0.3780849 ,\n",
       "        0.39758195, 0.417079  , 0.43657605, 0.4560731 , 0.47557015,\n",
       "        0.49506721, 0.51456426, 0.53406131, 0.55355836, 0.57305541,\n",
       "        0.59255246, 0.61204952, 0.63154657, 0.65104362, 0.67054067,\n",
       "        0.69003772, 0.70953477, 0.72903182, 0.74852888, 0.76802593,\n",
       "        0.78752298, 0.80702003, 0.82651708, 0.84601413, 0.86551119,\n",
       "        0.88500824, 0.90450529, 0.92400234, 0.94349939, 0.96299644,\n",
       "        0.98249349]),\n",
       " <BarContainer object of 50 artists>)"
      ]
     },
     "execution_count": 85,
     "metadata": {},
     "output_type": "execute_result"
    },
    {
     "data": {
      "image/png": "[encoded data removed]",
      "text/plain": [
       "<Figure size 640x480 with 1 Axes>"
      ]
     },
     "metadata": {},
     "output_type": "display_data"
    }
   ],
   "source": [
    "plt.hist(B,bins=50)"
   ]
  },
  {
   "cell_type": "code",
   "execution_count": 86,
   "id": "08b1ddb5",
   "metadata": {},
   "outputs": [
    {
     "data": {
      "text/plain": [
       "(array([1.000e+00, 1.000e+00, 1.000e+00, 1.000e+00, 1.000e+00, 2.000e+00,\n",
       "        3.000e+00, 5.000e+00, 8.000e+00, 4.000e+00, 1.500e+01, 1.600e+01,\n",
       "        3.000e+01, 3.500e+01, 5.300e+01, 6.400e+01, 7.800e+01, 7.900e+01,\n",
       "        1.160e+02, 1.570e+02, 2.010e+02, 2.100e+02, 2.630e+02, 3.180e+02,\n",
       "        3.950e+02, 5.630e+02, 5.900e+02, 6.460e+02, 7.970e+02, 9.680e+02,\n",
       "        1.070e+03, 1.265e+03, 1.386e+03, 1.560e+03, 1.771e+03, 1.995e+03,\n",
       "        2.122e+03, 2.327e+03, 2.559e+03, 2.659e+03, 2.908e+03, 3.063e+03,\n",
       "        3.304e+03, 3.397e+03, 3.366e+03, 3.454e+03, 3.571e+03, 3.428e+03,\n",
       "        3.615e+03, 3.511e+03, 3.558e+03, 3.357e+03, 3.274e+03, 3.143e+03,\n",
       "        3.006e+03, 2.864e+03, 2.570e+03, 2.514e+03, 2.276e+03, 1.996e+03,\n",
       "        1.792e+03, 1.658e+03, 1.460e+03, 1.352e+03, 1.112e+03, 9.510e+02,\n",
       "        8.770e+02, 7.390e+02, 6.410e+02, 5.800e+02, 4.350e+02, 3.730e+02,\n",
       "        3.100e+02, 2.350e+02, 2.160e+02, 1.690e+02, 1.520e+02, 1.030e+02,\n",
       "        7.300e+01, 5.200e+01, 6.500e+01, 3.500e+01, 2.100e+01, 2.600e+01,\n",
       "        1.800e+01, 1.000e+01, 8.000e+00, 1.000e+01, 4.000e+00, 4.000e+00,\n",
       "        3.000e+00, 1.000e+00, 1.000e+00, 1.000e+00, 2.000e+00, 0.000e+00,\n",
       "        0.000e+00, 0.000e+00, 0.000e+00, 1.000e+00]),\n",
       " array([-4.26370579, -4.17433297, -4.08496016, -3.99558734, -3.90621452,\n",
       "        -3.8168417 , -3.72746888, -3.63809606, -3.54872325, -3.45935043,\n",
       "        -3.36997761, -3.28060479, -3.19123197, -3.10185915, -3.01248634,\n",
       "        -2.92311352, -2.8337407 , -2.74436788, -2.65499506, -2.56562224,\n",
       "        -2.47624943, -2.38687661, -2.29750379, -2.20813097, -2.11875815,\n",
       "        -2.02938533, -1.94001252, -1.8506397 , -1.76126688, -1.67189406,\n",
       "        -1.58252124, -1.49314842, -1.40377561, -1.31440279, -1.22502997,\n",
       "        -1.13565715, -1.04628433, -0.95691151, -0.8675387 , -0.77816588,\n",
       "        -0.68879306, -0.59942024, -0.51004742, -0.4206746 , -0.33130179,\n",
       "        -0.24192897, -0.15255615, -0.06318333,  0.02618949,  0.1155623 ,\n",
       "         0.20493512,  0.29430794,  0.38368076,  0.47305358,  0.5624264 ,\n",
       "         0.65179921,  0.74117203,  0.83054485,  0.91991767,  1.00929049,\n",
       "         1.09866331,  1.18803612,  1.27740894,  1.36678176,  1.45615458,\n",
       "         1.5455274 ,  1.63490022,  1.72427303,  1.81364585,  1.90301867,\n",
       "         1.99239149,  2.08176431,  2.17113713,  2.26050994,  2.34988276,\n",
       "         2.43925558,  2.5286284 ,  2.61800122,  2.70737404,  2.79674685,\n",
       "         2.88611967,  2.97549249,  3.06486531,  3.15423813,  3.24361095,\n",
       "         3.33298376,  3.42235658,  3.5117294 ,  3.60110222,  3.69047504,\n",
       "         3.77984786,  3.86922067,  3.95859349,  4.04796631,  4.13733913,\n",
       "         4.22671195,  4.31608477,  4.40545758,  4.4948304 ,  4.58420322,\n",
       "         4.67357604]),\n",
       " <BarContainer object of 100 artists>)"
      ]
     },
     "execution_count": 86,
     "metadata": {},
     "output_type": "execute_result"
    },
    {
     "data": {
      "image/png": "[encoded data removed]",
      "text/plain": [
       "<Figure size 640x480 with 1 Axes>"
      ]
     },
     "metadata": {},
     "output_type": "display_data"
    }
   ],
   "source": [
    "C = np.random.randn(100000)   #generates random numbers from an array\n",
    "plt.hist(C,bins=100)"
   ]
  },
  {
   "cell_type": "code",
   "execution_count": 93,
   "id": "4b067175",
   "metadata": {},
   "outputs": [
    {
     "data": {
      "text/plain": [
       "array([[0.27215607, 0.89467611, 0.66645259],\n",
       "       [0.40324732, 0.94520543, 0.16162525]])"
      ]
     },
     "execution_count": 93,
     "metadata": {},
     "output_type": "execute_result"
    }
   ],
   "source": [
    "import numpy as np\n",
    "\n",
    "A = np.random.rand(2,3)\n",
    "A"
   ]
  },
  {
   "cell_type": "code",
   "execution_count": 94,
   "id": "0097abeb",
   "metadata": {},
   "outputs": [
    {
     "data": {
      "text/plain": [
       "2"
      ]
     },
     "execution_count": 94,
     "metadata": {},
     "output_type": "execute_result"
    }
   ],
   "source": [
    "A.ndim"
   ]
  },
  {
   "cell_type": "code",
   "execution_count": 96,
   "id": "3a418e80",
   "metadata": {},
   "outputs": [],
   "source": [
    "A = np.random.rand(2,3,4,5,6)\n"
   ]
  },
  {
   "cell_type": "code",
   "execution_count": 98,
   "id": "b9912961",
   "metadata": {},
   "outputs": [
    {
     "data": {
      "text/plain": [
       "5"
      ]
     },
     "execution_count": 98,
     "metadata": {},
     "output_type": "execute_result"
    }
   ],
   "source": [
    "A.ndim   #5 dimensional array"
   ]
  },
  {
   "cell_type": "code",
   "execution_count": 100,
   "id": "d05628c1",
   "metadata": {},
   "outputs": [
    {
     "data": {
      "text/plain": [
       "(4, 25)"
      ]
     },
     "execution_count": 100,
     "metadata": {},
     "output_type": "execute_result"
    }
   ],
   "source": [
    "D = np.arange(100).reshape(4,25)    #4 row ND 25 COLUMN\n",
    "D.shape"
   ]
  },
  {
   "cell_type": "code",
   "execution_count": 102,
   "id": "c0f8200f",
   "metadata": {},
   "outputs": [
    {
     "data": {
      "text/plain": [
       "(4, 5, 5)"
      ]
     },
     "execution_count": 102,
     "metadata": {},
     "output_type": "execute_result"
    }
   ],
   "source": [
    "D = np.arange(100).reshape(4,5,5)    #4 row ND 25 COLUMN\n",
    "D.shape"
   ]
  },
  {
   "cell_type": "code",
   "execution_count": 103,
   "id": "61ed4451",
   "metadata": {},
   "outputs": [],
   "source": [
    "A = np.arange(100)"
   ]
  },
  {
   "cell_type": "code",
   "execution_count": 104,
   "id": "971ed241",
   "metadata": {},
   "outputs": [
    {
     "data": {
      "text/plain": [
       "array([3, 4, 5, 6, 7, 8, 9])"
      ]
     },
     "execution_count": 104,
     "metadata": {},
     "output_type": "execute_result"
    }
   ],
   "source": [
    "B =A[3:10]\n",
    "B"
   ]
  },
  {
   "cell_type": "code",
   "execution_count": 108,
   "id": "5305c713",
   "metadata": {},
   "outputs": [],
   "source": [
    "B[0]=-1200   #the element 3 has been replaced with -1200"
   ]
  },
  {
   "cell_type": "code",
   "execution_count": 109,
   "id": "14401e3a",
   "metadata": {},
   "outputs": [
    {
     "data": {
      "text/plain": [
       "array([-1200,     4,     5,     6,     7,     8,     9])"
      ]
     },
     "execution_count": 109,
     "metadata": {},
     "output_type": "execute_result"
    }
   ],
   "source": [
    "B"
   ]
  },
  {
   "cell_type": "code",
   "execution_count": 110,
   "id": "132c2005",
   "metadata": {},
   "outputs": [
    {
     "data": {
      "text/plain": [
       "array([    0,     1,     2, -1200,     4,     5,     6,     7,     8,\n",
       "           9,    10,    11,    12,    13,    14,    15,    16,    17,\n",
       "          18,    19,    20,    21,    22,    23,    24,    25,    26,\n",
       "          27,    28,    29,    30,    31,    32,    33,    34,    35,\n",
       "          36,    37,    38,    39,    40,    41,    42,    43,    44,\n",
       "          45,    46,    47,    48,    49,    50,    51,    52,    53,\n",
       "          54,    55,    56,    57,    58,    59,    60,    61,    62,\n",
       "          63,    64,    65,    66,    67,    68,    69,    70,    71,\n",
       "          72,    73,    74,    75,    76,    77,    78,    79,    80,\n",
       "          81,    82,    83,    84,    85,    86,    87,    88,    89,\n",
       "          90,    91,    92,    93,    94,    95,    96,    97,    98,\n",
       "          99])"
      ]
     },
     "execution_count": 110,
     "metadata": {},
     "output_type": "execute_result"
    }
   ],
   "source": [
    "A"
   ]
  },
  {
   "cell_type": "code",
   "execution_count": 111,
   "id": "5cf4e51d",
   "metadata": {},
   "outputs": [],
   "source": [
    "B =A[3:10].copy()"
   ]
  },
  {
   "cell_type": "code",
   "execution_count": 112,
   "id": "951a1570",
   "metadata": {},
   "outputs": [
    {
     "data": {
      "text/plain": [
       "array([ 0,  5, 10, 15, 20, 25, 30, 35, 40, 45, 50, 55, 60, 65, 70, 75, 80,\n",
       "       85, 90, 95])"
      ]
     },
     "execution_count": 112,
     "metadata": {},
     "output_type": "execute_result"
    }
   ],
   "source": [
    "A[::5]  #pick after 5 numbers"
   ]
  },
  {
   "cell_type": "code",
   "execution_count": 113,
   "id": "796cd73c",
   "metadata": {},
   "outputs": [
    {
     "data": {
      "text/plain": [
       "array([99, 94, 89, 84, 79, 74, 69, 64, 59, 54, 49, 44, 39, 34, 29, 24, 19,\n",
       "       14,  9,  4])"
      ]
     },
     "execution_count": 113,
     "metadata": {},
     "output_type": "execute_result"
    }
   ],
   "source": [
    "A[::-5]"
   ]
  },
  {
   "cell_type": "code",
   "execution_count": 131,
   "id": "3ff31c5b",
   "metadata": {},
   "outputs": [
    {
     "data": {
      "text/plain": [
       "array([99, 98, 97, 96, 95, 94, 93, 92, 91, 90, 89, 88, 87, 86, 85, 84, 83,\n",
       "       82, 81, 80, 79, 78, 77, 76, 75, 74, 73, 72, 71, 70, 69, 68, 67, 66,\n",
       "       65, 64, 63, 62, 61, 60, 59, 58, 57, 56, 55, 54, 53, 52, 51, 50, 49,\n",
       "       48, 47, 46, 45, 44, 43, 42, 41, 40, 39, 38, 37, 36, 35, 34, 33, 32,\n",
       "       31, 30, 29, 28, 27, 26, 25, 24, 23, 22, 21, 20, 19, 18, 17, 16, 15,\n",
       "       14, 13, 12, 11, 10,  9,  8,  7,  6,  5,  4,  3,  2,  1,  0])"
      ]
     },
     "execution_count": 131,
     "metadata": {},
     "output_type": "execute_result"
    }
   ],
   "source": [
    "A[::-1]"
   ]
  },
  {
   "cell_type": "code",
   "execution_count": 133,
   "id": "6676d5bc",
   "metadata": {},
   "outputs": [
    {
     "data": {
      "text/plain": [
       "array([50, 51, 52, 53, 54, 55, 56, 57, 58, 59, 60, 61, 62, 63, 64, 65, 66,\n",
       "       67, 68, 69, 70, 71, 72, 73, 74, 75, 76, 77, 78, 79, 80, 81, 82, 83,\n",
       "       84, 85, 86, 87, 88, 89, 90, 91, 92, 93, 94, 95, 96, 97, 98, 99])"
      ]
     },
     "execution_count": 133,
     "metadata": {},
     "output_type": "execute_result"
    }
   ],
   "source": [
    "D = A[50:100]\n",
    "D"
   ]
  },
  {
   "cell_type": "code",
   "execution_count": 134,
   "id": "7047d5f4",
   "metadata": {},
   "outputs": [
    {
     "data": {
      "text/plain": [
       "array([   0,    1,    2,    3,    4,    5,    6,    7,    8,    9,   10,\n",
       "         11,   12,   13,   14,   15,   16,   17,   18,   19,   20,   21,\n",
       "         22,   23,   24,   25,   26,   27,   28,   29,   30,   31,   32,\n",
       "         33,   34,   35,   36,   37,   38,   39,   40,   41,   42,   43,\n",
       "         44,   45,   46,   47,   48,   49, -400,   51,   52,   53,   54,\n",
       "         55,   56,   57,   58,   59,   60,   61,   62,   63,   64,   65,\n",
       "         66,   67,   68,   69,   70,   71,   72,   73,   74,   75,   76,\n",
       "         77,   78,   79,   80,   81,   82,   83,   84,   85,   86,   87,\n",
       "         88,   89,   90,   91,   92,   93,   94,   95,   96,   97,   98,\n",
       "         99])"
      ]
     },
     "execution_count": 134,
     "metadata": {},
     "output_type": "execute_result"
    }
   ],
   "source": [
    "D[0]=-400\n",
    "A"
   ]
  },
  {
   "cell_type": "code",
   "execution_count": 135,
   "id": "a9188dfd",
   "metadata": {},
   "outputs": [],
   "source": [
    "idx =np.argwhere(A==-400)[0][0]"
   ]
  },
  {
   "cell_type": "code",
   "execution_count": 136,
   "id": "04519aa6",
   "metadata": {},
   "outputs": [
    {
     "data": {
      "text/plain": [
       "50"
      ]
     },
     "execution_count": 136,
     "metadata": {},
     "output_type": "execute_result"
    }
   ],
   "source": [
    "idx"
   ]
  },
  {
   "cell_type": "code",
   "execution_count": 137,
   "id": "95dbf85e",
   "metadata": {},
   "outputs": [],
   "source": [
    "A[idx] =50"
   ]
  },
  {
   "cell_type": "code",
   "execution_count": 138,
   "id": "faff2cd2",
   "metadata": {},
   "outputs": [
    {
     "data": {
      "text/plain": [
       "array([ 0,  1,  2,  3,  4,  5,  6,  7,  8,  9, 10, 11, 12, 13, 14, 15, 16,\n",
       "       17, 18, 19, 20, 21, 22, 23, 24, 25, 26, 27, 28, 29, 30, 31, 32, 33,\n",
       "       34, 35, 36, 37, 38, 39, 40, 41, 42, 43, 44, 45, 46, 47, 48, 49, 50,\n",
       "       51, 52, 53, 54, 55, 56, 57, 58, 59, 60, 61, 62, 63, 64, 65, 66, 67,\n",
       "       68, 69, 70, 71, 72, 73, 74, 75, 76, 77, 78, 79, 80, 81, 82, 83, 84,\n",
       "       85, 86, 87, 88, 89, 90, 91, 92, 93, 94, 95, 96, 97, 98, 99])"
      ]
     },
     "execution_count": 138,
     "metadata": {},
     "output_type": "execute_result"
    }
   ],
   "source": [
    "A"
   ]
  },
  {
   "cell_type": "code",
   "execution_count": 140,
   "id": "d84df553",
   "metadata": {},
   "outputs": [
    {
     "data": {
      "text/plain": [
       "array([[4., 7., 4., 2.],\n",
       "       [9., 1., 0., 2.],\n",
       "       [4., 2., 3., 4.],\n",
       "       [8., 4., 7., 1.],\n",
       "       [1., 9., 3., 8.]])"
      ]
     },
     "execution_count": 140,
     "metadata": {},
     "output_type": "execute_result"
    }
   ],
   "source": [
    "A = np.round(10*np.random.rand(5,4))   #gives 5 columns and 4 rows\n",
    "A"
   ]
  },
  {
   "cell_type": "code",
   "execution_count": 144,
   "id": "27bb5b48",
   "metadata": {},
   "outputs": [
    {
     "data": {
      "text/plain": [
       "0.0"
      ]
     },
     "execution_count": 144,
     "metadata": {},
     "output_type": "execute_result"
    }
   ],
   "source": [
    "A[1,2]"
   ]
  },
  {
   "cell_type": "code",
   "execution_count": 145,
   "id": "61e93447",
   "metadata": {},
   "outputs": [
    {
     "data": {
      "text/plain": [
       "array([9., 1., 0., 2.])"
      ]
     },
     "execution_count": 145,
     "metadata": {},
     "output_type": "execute_result"
    }
   ],
   "source": [
    "A[1,:]   #accesing the whole second column"
   ]
  },
  {
   "cell_type": "code",
   "execution_count": 148,
   "id": "072ca308",
   "metadata": {},
   "outputs": [
    {
     "data": {
      "text/plain": [
       "array([2., 2., 4., 1., 8.])"
      ]
     },
     "execution_count": 148,
     "metadata": {},
     "output_type": "execute_result"
    }
   ],
   "source": [
    "A[:,3]  #accessing all 4th row"
   ]
  },
  {
   "cell_type": "code",
   "execution_count": 149,
   "id": "40e27155",
   "metadata": {},
   "outputs": [
    {
     "data": {
      "text/plain": [
       "array([1., 9., 3., 8.])"
      ]
     },
     "execution_count": 149,
     "metadata": {},
     "output_type": "execute_result"
    }
   ],
   "source": [
    "A[4,:]"
   ]
  },
  {
   "cell_type": "code",
   "execution_count": 150,
   "id": "3e90b3db",
   "metadata": {},
   "outputs": [
    {
     "data": {
      "text/plain": [
       "array([[0., 2.],\n",
       "       [3., 4.]])"
      ]
     },
     "execution_count": 150,
     "metadata": {},
     "output_type": "execute_result"
    }
   ],
   "source": [
    "A[1:3,2:4]"
   ]
  },
  {
   "cell_type": "code",
   "execution_count": 151,
   "id": "0e9dce37",
   "metadata": {},
   "outputs": [
    {
     "data": {
      "text/plain": [
       "array([[4., 9., 4., 8., 1.],\n",
       "       [7., 1., 2., 4., 9.],\n",
       "       [4., 0., 3., 7., 3.],\n",
       "       [2., 2., 4., 1., 8.]])"
      ]
     },
     "execution_count": 151,
     "metadata": {},
     "output_type": "execute_result"
    }
   ],
   "source": [
    "A.T"
   ]
  },
  {
   "cell_type": "code",
   "execution_count": 152,
   "id": "230eb8de",
   "metadata": {},
   "outputs": [],
   "source": [
    "import numpy.linalg as la     #linear algebra library"
   ]
  },
  {
   "cell_type": "code",
   "execution_count": 153,
   "id": "4151b281",
   "metadata": {},
   "outputs": [
    {
     "data": {
      "text/plain": [
       "array([[ 2.25931837,  0.03972586, -0.87925235],\n",
       "       [-1.06756121,  1.18556914, -0.5578243 ],\n",
       "       [-0.18784149, -0.18541961,  1.34193577]])"
      ]
     },
     "execution_count": 153,
     "metadata": {},
     "output_type": "execute_result"
    }
   ],
   "source": [
    "la.inv(np.random.rand(3,3))"
   ]
  },
  {
   "cell_type": "code",
   "execution_count": 154,
   "id": "492cc08c",
   "metadata": {},
   "outputs": [
    {
     "data": {
      "text/plain": [
       "array([[4., 7., 4., 2.],\n",
       "       [9., 1., 0., 2.],\n",
       "       [4., 2., 3., 4.],\n",
       "       [8., 4., 7., 1.],\n",
       "       [1., 9., 3., 8.]])"
      ]
     },
     "execution_count": 154,
     "metadata": {},
     "output_type": "execute_result"
    }
   ],
   "source": [
    "A"
   ]
  },
  {
   "cell_type": "code",
   "execution_count": 155,
   "id": "d68d2d3a",
   "metadata": {},
   "outputs": [
    {
     "data": {
      "text/plain": [
       "array([[1., 1., 0., 1.],\n",
       "       [4., 2., 3., 2.],\n",
       "       [4., 4., 3., 2.],\n",
       "       [8., 7., 4., 4.],\n",
       "       [9., 9., 7., 8.]])"
      ]
     },
     "execution_count": 155,
     "metadata": {},
     "output_type": "execute_result"
    }
   ],
   "source": [
    "A.sort(axis=0)\n",
    "A"
   ]
  },
  {
   "cell_type": "code",
   "execution_count": 156,
   "id": "168d1b76",
   "metadata": {},
   "outputs": [
    {
     "data": {
      "text/plain": [
       "array([[0., 1., 1., 1.],\n",
       "       [2., 2., 3., 4.],\n",
       "       [2., 3., 4., 4.],\n",
       "       [4., 4., 7., 8.],\n",
       "       [7., 8., 9., 9.]])"
      ]
     },
     "execution_count": 156,
     "metadata": {},
     "output_type": "execute_result"
    }
   ],
   "source": [
    "A.sort(axis=1)\n",
    "A"
   ]
  },
  {
   "cell_type": "code",
   "execution_count": 1,
   "id": "245acf0c",
   "metadata": {},
   "outputs": [
    {
     "data": {
      "text/plain": [
       "[3, 4, 5]"
      ]
     },
     "execution_count": 1,
     "metadata": {},
     "output_type": "execute_result"
    }
   ],
   "source": [
    "import numpy as np\n",
    "\n",
    "A = np.arange(100)\n",
    "\n",
    "B=([3,4,5])\n",
    "B"
   ]
  },
  {
   "cell_type": "code",
   "execution_count": 2,
   "id": "4ba2422e",
   "metadata": {},
   "outputs": [
    {
     "data": {
      "text/plain": [
       "[-200, 4, 5]"
      ]
     },
     "execution_count": 2,
     "metadata": {},
     "output_type": "execute_result"
    }
   ],
   "source": [
    "B[0] =-200\n",
    "B"
   ]
  },
  {
   "cell_type": "code",
   "execution_count": 3,
   "id": "dd6b21c7",
   "metadata": {},
   "outputs": [
    {
     "data": {
      "text/plain": [
       "array([ 0,  1,  2,  3,  4,  5,  6,  7,  8,  9, 10, 11, 12, 13, 14, 15, 16,\n",
       "       17, 18, 19, 20, 21, 22, 23, 24, 25, 26, 27, 28, 29, 30, 31, 32, 33,\n",
       "       34, 35, 36, 37, 38, 39, 40, 41, 42, 43, 44, 45, 46, 47, 48, 49, 50,\n",
       "       51, 52, 53, 54, 55, 56, 57, 58, 59, 60, 61, 62, 63, 64, 65, 66, 67,\n",
       "       68, 69, 70, 71, 72, 73, 74, 75, 76, 77, 78, 79, 80, 81, 82, 83, 84,\n",
       "       85, 86, 87, 88, 89, 90, 91, 92, 93, 94, 95, 96, 97, 98, 99])"
      ]
     },
     "execution_count": 3,
     "metadata": {},
     "output_type": "execute_result"
    }
   ],
   "source": [
    "A"
   ]
  },
  {
   "cell_type": "code",
   "execution_count": 4,
   "id": "1547a306",
   "metadata": {},
   "outputs": [
    {
     "data": {
      "text/plain": [
       "array([ 0,  1,  2,  3,  4,  5,  6,  7,  8,  9, 10, 11, 12, 13, 14, 15, 16,\n",
       "       17, 18, 19, 20, 21, 22, 23, 24, 25, 26, 27, 28, 29, 30, 31, 32, 33,\n",
       "       34, 35, 36, 37, 38, 39])"
      ]
     },
     "execution_count": 4,
     "metadata": {},
     "output_type": "execute_result"
    }
   ],
   "source": [
    "B = A[A<40]\n",
    "B"
   ]
  },
  {
   "cell_type": "code",
   "execution_count": 6,
   "id": "83e361b1",
   "metadata": {},
   "outputs": [
    {
     "data": {
      "text/plain": [
       "array([31, 32, 33, 34, 35, 36, 37, 38, 39])"
      ]
     },
     "execution_count": 6,
     "metadata": {},
     "output_type": "execute_result"
    }
   ],
   "source": [
    "B =A[(A<40) & (A>30)]\n",
    "B"
   ]
  },
  {
   "cell_type": "code",
   "execution_count": 8,
   "id": "b4141cd7",
   "metadata": {},
   "outputs": [
    {
     "data": {
      "text/plain": [
       "array([[8., 5., 1.],\n",
       "       [5., 2., 3.]])"
      ]
     },
     "execution_count": 8,
     "metadata": {},
     "output_type": "execute_result"
    }
   ],
   "source": [
    "# Broadcasting\n",
    "\n",
    "import numpy as np\n",
    "A = np.round(10*np.random.rand(2,3))\n",
    "A"
   ]
  },
  {
   "cell_type": "code",
   "execution_count": 9,
   "id": "589b46dc",
   "metadata": {},
   "outputs": [
    {
     "data": {
      "text/plain": [
       "array([[8., 5., 1.],\n",
       "       [5., 2., 3.]])"
      ]
     },
     "execution_count": 9,
     "metadata": {},
     "output_type": "execute_result"
    }
   ],
   "source": [
    "A +3\n",
    "A"
   ]
  },
  {
   "cell_type": "code",
   "execution_count": 10,
   "id": "6fa420e9",
   "metadata": {},
   "outputs": [
    {
     "data": {
      "text/plain": [
       "array([[8., 5., 1.],\n",
       "       [6., 3., 4.]])"
      ]
     },
     "execution_count": 10,
     "metadata": {},
     "output_type": "execute_result"
    }
   ],
   "source": [
    "A + (np.arange(2).reshape(2,1))"
   ]
  },
  {
   "cell_type": "code",
   "execution_count": 12,
   "id": "3a0b00b7",
   "metadata": {},
   "outputs": [
    {
     "data": {
      "text/plain": [
       "array([[ 9., 10.],\n",
       "       [10.,  5.]])"
      ]
     },
     "execution_count": 12,
     "metadata": {},
     "output_type": "execute_result"
    }
   ],
   "source": [
    "B =np.round(10*np.random.rand(2,2))\n",
    "B"
   ]
  },
  {
   "cell_type": "code",
   "execution_count": 13,
   "id": "7f935bee",
   "metadata": {},
   "outputs": [
    {
     "data": {
      "text/plain": [
       "array([[8., 5., 1.],\n",
       "       [5., 2., 3.]])"
      ]
     },
     "execution_count": 13,
     "metadata": {},
     "output_type": "execute_result"
    }
   ],
   "source": [
    "A"
   ]
  },
  {
   "cell_type": "code",
   "execution_count": 15,
   "id": "0b9683f8",
   "metadata": {},
   "outputs": [],
   "source": [
    "C =np.hstack((A,B))   #horizontal stack is given as a tuple inside"
   ]
  },
  {
   "cell_type": "code",
   "execution_count": 16,
   "id": "4836813a",
   "metadata": {},
   "outputs": [
    {
     "data": {
      "text/plain": [
       "array([[ 8.,  5.,  1.,  9., 10.],\n",
       "       [ 5.,  2.,  3., 10.,  5.]])"
      ]
     },
     "execution_count": 16,
     "metadata": {},
     "output_type": "execute_result"
    }
   ],
   "source": [
    "C"
   ]
  },
  {
   "cell_type": "code",
   "execution_count": 17,
   "id": "9b8c4b2e",
   "metadata": {},
   "outputs": [
    {
     "data": {
      "text/plain": [
       "array([9, 1, 7, 8, 3, 4, 5, 0, 6, 2])"
      ]
     },
     "execution_count": 17,
     "metadata": {},
     "output_type": "execute_result"
    }
   ],
   "source": [
    "A =np.random.permutation(np.arange(10))\n",
    "A"
   ]
  },
  {
   "cell_type": "code",
   "execution_count": 20,
   "id": "04b01d00",
   "metadata": {},
   "outputs": [
    {
     "data": {
      "text/plain": [
       "array([0, 1, 2, 3, 4, 5, 6, 7, 8, 9])"
      ]
     },
     "execution_count": 20,
     "metadata": {},
     "output_type": "execute_result"
    }
   ],
   "source": [
    "A.sort()   # this is to sort the values of A\n",
    "\n",
    "A"
   ]
  },
  {
   "cell_type": "code",
   "execution_count": 21,
   "id": "4feee49b",
   "metadata": {},
   "outputs": [
    {
     "data": {
      "text/plain": [
       "array([0, 1, 2, 3, 4, 5, 6, 7, 8, 9])"
      ]
     },
     "execution_count": 21,
     "metadata": {},
     "output_type": "execute_result"
    }
   ],
   "source": [
    "np.sort(A)"
   ]
  },
  {
   "cell_type": "code",
   "execution_count": 22,
   "id": "8f5093f4",
   "metadata": {},
   "outputs": [],
   "source": [
    "A.sort()"
   ]
  },
  {
   "cell_type": "code",
   "execution_count": 23,
   "id": "82ca02b8",
   "metadata": {},
   "outputs": [
    {
     "data": {
      "text/plain": [
       "array([9, 8, 7, 6, 5, 4, 3, 2, 1, 0])"
      ]
     },
     "execution_count": 23,
     "metadata": {},
     "output_type": "execute_result"
    }
   ],
   "source": [
    "A = A[::-1]\n",
    "A"
   ]
  },
  {
   "cell_type": "code",
   "execution_count": 24,
   "id": "37bd4128",
   "metadata": {},
   "outputs": [],
   "source": [
    "A = np.array([\"abc\", \"howareyou\", 'ufgd', '123'])"
   ]
  },
  {
   "cell_type": "code",
   "execution_count": 26,
   "id": "90e199b8",
   "metadata": {},
   "outputs": [
    {
     "data": {
      "text/plain": [
       "array(['123', 'abc', 'howareyou', 'ufgd'], dtype='<U9')"
      ]
     },
     "execution_count": 26,
     "metadata": {},
     "output_type": "execute_result"
    }
   ],
   "source": [
    "A.sort()\n",
    "A"
   ]
  },
  {
   "cell_type": "code",
   "execution_count": 28,
   "id": "c45a08ed",
   "metadata": {},
   "outputs": [
    {
     "name": "stdout",
     "output_type": "stream",
     "text": [
      "485 ms ± 41.2 ms per loop (mean ± std. dev. of 7 runs, 1 loop each)\n",
      "5.91 ms ± 363 µs per loop (mean ± std. dev. of 7 runs, 100 loops each)\n"
     ]
    }
   ],
   "source": [
    "B = np.random.rand(1000000)\n",
    "%timeit sum(B)             #Numpy universal function\n",
    "%timeit np.sum(B)"
   ]
  },
  {
   "cell_type": "code",
   "execution_count": 29,
   "id": "298f37c1",
   "metadata": {},
   "outputs": [],
   "source": [
    "def mysum(G):\n",
    "    s = 0\n",
    "    for x in G:\n",
    "        s+=x\n",
    "    return s\n"
   ]
  },
  {
   "cell_type": "code",
   "execution_count": 30,
   "id": "f8a1f869",
   "metadata": {},
   "outputs": [
    {
     "name": "stdout",
     "output_type": "stream",
     "text": [
      "CPU times: total: 547 ms\n",
      "Wall time: 595 ms\n"
     ]
    },
    {
     "data": {
      "text/plain": [
       "500304.81375022733"
      ]
     },
     "execution_count": 30,
     "metadata": {},
     "output_type": "execute_result"
    }
   ],
   "source": [
    "%time mysum(B)"
   ]
  },
  {
   "cell_type": "code",
   "execution_count": 31,
   "id": "68d3bca9",
   "metadata": {},
   "outputs": [],
   "source": [
    "import pandas as pd"
   ]
  },
  {
   "cell_type": "code",
   "execution_count": 33,
   "id": "060e0600",
   "metadata": {},
   "outputs": [
    {
     "name": "stdout",
     "output_type": "stream",
     "text": [
      "1.5.3\n"
     ]
    }
   ],
   "source": [
    "print(pd.__version__)"
   ]
  },
  {
   "cell_type": "code",
   "execution_count": 35,
   "id": "6060111a",
   "metadata": {},
   "outputs": [],
   "source": [
    "A = pd.Series([2,3,4,5], index = ['a', 'b', 'c', 'd'])"
   ]
  },
  {
   "cell_type": "code",
   "execution_count": 36,
   "id": "2f667f11",
   "metadata": {},
   "outputs": [
    {
     "data": {
      "text/plain": [
       "array([2, 3, 4, 5], dtype=int64)"
      ]
     },
     "execution_count": 36,
     "metadata": {},
     "output_type": "execute_result"
    }
   ],
   "source": [
    "A.values"
   ]
  },
  {
   "cell_type": "code",
   "execution_count": 37,
   "id": "324d0319",
   "metadata": {},
   "outputs": [
    {
     "data": {
      "text/plain": [
       "pandas.core.series.Series"
      ]
     },
     "execution_count": 37,
     "metadata": {},
     "output_type": "execute_result"
    }
   ],
   "source": [
    "type(A)"
   ]
  },
  {
   "cell_type": "code",
   "execution_count": 38,
   "id": "f0233e99",
   "metadata": {},
   "outputs": [
    {
     "data": {
      "text/plain": [
       "Index(['a', 'b', 'c', 'd'], dtype='object')"
      ]
     },
     "execution_count": 38,
     "metadata": {},
     "output_type": "execute_result"
    }
   ],
   "source": [
    "A.index"
   ]
  },
  {
   "cell_type": "code",
   "execution_count": 39,
   "id": "d26124f5",
   "metadata": {},
   "outputs": [
    {
     "data": {
      "text/plain": [
       "2"
      ]
     },
     "execution_count": 39,
     "metadata": {},
     "output_type": "execute_result"
    }
   ],
   "source": [
    "A['a']"
   ]
  },
  {
   "cell_type": "code",
   "execution_count": 40,
   "id": "83560e5e",
   "metadata": {},
   "outputs": [
    {
     "data": {
      "text/plain": [
       "3"
      ]
     },
     "execution_count": 40,
     "metadata": {},
     "output_type": "execute_result"
    }
   ],
   "source": [
    "A['b']"
   ]
  },
  {
   "cell_type": "code",
   "execution_count": 46,
   "id": "0cc6a7ff",
   "metadata": {},
   "outputs": [],
   "source": [
    "grads_dict ={'A':4, 'B':3.5, 'C':3, 'D':2.5}\n",
    "grads = pd.Series(grads_dict)"
   ]
  },
  {
   "cell_type": "code",
   "execution_count": 47,
   "id": "0b72b6b8",
   "metadata": {},
   "outputs": [
    {
     "data": {
      "text/plain": [
       "array([4. , 3.5, 3. , 2.5])"
      ]
     },
     "execution_count": 47,
     "metadata": {},
     "output_type": "execute_result"
    }
   ],
   "source": [
    "grads.values"
   ]
  },
  {
   "cell_type": "code",
   "execution_count": 49,
   "id": "8f22df79",
   "metadata": {},
   "outputs": [],
   "source": [
    "marks_dict = {'A':65, 'B':67, 'C':89, }\n",
    "marks = pd.Series(marks_dict)"
   ]
  },
  {
   "cell_type": "code",
   "execution_count": 51,
   "id": "c65b3de5",
   "metadata": {},
   "outputs": [
    {
     "data": {
      "text/plain": [
       "array([65, 67, 89], dtype=int64)"
      ]
     },
     "execution_count": 51,
     "metadata": {},
     "output_type": "execute_result"
    }
   ],
   "source": [
    "marks.values"
   ]
  },
  {
   "cell_type": "code",
   "execution_count": 52,
   "id": "4ba9b2da",
   "metadata": {},
   "outputs": [
    {
     "data": {
      "text/plain": [
       "A    65\n",
       "B    67\n",
       "C    89\n",
       "dtype: int64"
      ]
     },
     "execution_count": 52,
     "metadata": {},
     "output_type": "execute_result"
    }
   ],
   "source": [
    "marks"
   ]
  },
  {
   "cell_type": "code",
   "execution_count": 54,
   "id": "db9fa361",
   "metadata": {},
   "outputs": [
    {
     "data": {
      "text/plain": [
       "65"
      ]
     },
     "execution_count": 54,
     "metadata": {},
     "output_type": "execute_result"
    }
   ],
   "source": [
    "marks['A']"
   ]
  },
  {
   "cell_type": "code",
   "execution_count": 55,
   "id": "f84af3b2",
   "metadata": {},
   "outputs": [
    {
     "data": {
      "text/plain": [
       "67"
      ]
     },
     "execution_count": 55,
     "metadata": {},
     "output_type": "execute_result"
    }
   ],
   "source": [
    "marks['B']"
   ]
  },
  {
   "cell_type": "code",
   "execution_count": 57,
   "id": "4be78697",
   "metadata": {},
   "outputs": [
    {
     "data": {
      "text/plain": [
       "A    65\n",
       "B    67\n",
       "dtype: int64"
      ]
     },
     "execution_count": 57,
     "metadata": {},
     "output_type": "execute_result"
    }
   ],
   "source": [
    "marks[0:2]  # pandas allows explicit and implicit indices"
   ]
  },
  {
   "cell_type": "code",
   "execution_count": 58,
   "id": "6519c431",
   "metadata": {},
   "outputs": [
    {
     "data": {
      "text/plain": [
       "A    4.0\n",
       "B    3.5\n",
       "C    3.0\n",
       "D    2.5\n",
       "dtype: float64"
      ]
     },
     "execution_count": 58,
     "metadata": {},
     "output_type": "execute_result"
    }
   ],
   "source": [
    "grads"
   ]
  },
  {
   "cell_type": "code",
   "execution_count": 60,
   "id": "c888db90",
   "metadata": {},
   "outputs": [],
   "source": [
    "D =pd.DataFrame({'Marks':marks, 'Grades':grads})"
   ]
  },
  {
   "cell_type": "code",
   "execution_count": 61,
   "id": "0203e9d7",
   "metadata": {},
   "outputs": [
    {
     "data": {
      "text/html": [
       "<div>\n",
       "<style scoped>\n",
       "    .dataframe tbody tr th:only-of-type {\n",
       "        vertical-align: middle;\n",
       "    }\n",
       "\n",
       "    .dataframe tbody tr th {\n",
       "        vertical-align: top;\n",
       "    }\n",
       "\n",
       "    .dataframe thead th {\n",
       "        text-align: right;\n",
       "    }\n",
       "</style>\n",
       "<table border=\"1\" class=\"dataframe\">\n",
       "  <thead>\n",
       "    <tr style=\"text-align: right;\">\n",
       "      <th></th>\n",
       "      <th>Marks</th>\n",
       "      <th>Grades</th>\n",
       "    </tr>\n",
       "  </thead>\n",
       "  <tbody>\n",
       "    <tr>\n",
       "      <th>A</th>\n",
       "      <td>65.0</td>\n",
       "      <td>4.0</td>\n",
       "    </tr>\n",
       "    <tr>\n",
       "      <th>B</th>\n",
       "      <td>67.0</td>\n",
       "      <td>3.5</td>\n",
       "    </tr>\n",
       "    <tr>\n",
       "      <th>C</th>\n",
       "      <td>89.0</td>\n",
       "      <td>3.0</td>\n",
       "    </tr>\n",
       "    <tr>\n",
       "      <th>D</th>\n",
       "      <td>NaN</td>\n",
       "      <td>2.5</td>\n",
       "    </tr>\n",
       "  </tbody>\n",
       "</table>\n",
       "</div>"
      ],
      "text/plain": [
       "   Marks  Grades\n",
       "A   65.0     4.0\n",
       "B   67.0     3.5\n",
       "C   89.0     3.0\n",
       "D    NaN     2.5"
      ]
     },
     "execution_count": 61,
     "metadata": {},
     "output_type": "execute_result"
    }
   ],
   "source": [
    "D"
   ]
  },
  {
   "cell_type": "code",
   "execution_count": 62,
   "id": "49979495",
   "metadata": {},
   "outputs": [
    {
     "data": {
      "text/html": [
       "<div>\n",
       "<style scoped>\n",
       "    .dataframe tbody tr th:only-of-type {\n",
       "        vertical-align: middle;\n",
       "    }\n",
       "\n",
       "    .dataframe tbody tr th {\n",
       "        vertical-align: top;\n",
       "    }\n",
       "\n",
       "    .dataframe thead th {\n",
       "        text-align: right;\n",
       "    }\n",
       "</style>\n",
       "<table border=\"1\" class=\"dataframe\">\n",
       "  <thead>\n",
       "    <tr style=\"text-align: right;\">\n",
       "      <th></th>\n",
       "      <th>A</th>\n",
       "      <th>B</th>\n",
       "      <th>C</th>\n",
       "      <th>D</th>\n",
       "    </tr>\n",
       "  </thead>\n",
       "  <tbody>\n",
       "    <tr>\n",
       "      <th>Marks</th>\n",
       "      <td>65.0</td>\n",
       "      <td>67.0</td>\n",
       "      <td>89.0</td>\n",
       "      <td>NaN</td>\n",
       "    </tr>\n",
       "    <tr>\n",
       "      <th>Grades</th>\n",
       "      <td>4.0</td>\n",
       "      <td>3.5</td>\n",
       "      <td>3.0</td>\n",
       "      <td>2.5</td>\n",
       "    </tr>\n",
       "  </tbody>\n",
       "</table>\n",
       "</div>"
      ],
      "text/plain": [
       "           A     B     C    D\n",
       "Marks   65.0  67.0  89.0  NaN\n",
       "Grades   4.0   3.5   3.0  2.5"
      ]
     },
     "execution_count": 62,
     "metadata": {},
     "output_type": "execute_result"
    }
   ],
   "source": [
    "D.T"
   ]
  },
  {
   "cell_type": "code",
   "execution_count": 63,
   "id": "bb6e0e66",
   "metadata": {},
   "outputs": [
    {
     "data": {
      "text/html": [
       "<div>\n",
       "<style scoped>\n",
       "    .dataframe tbody tr th:only-of-type {\n",
       "        vertical-align: middle;\n",
       "    }\n",
       "\n",
       "    .dataframe tbody tr th {\n",
       "        vertical-align: top;\n",
       "    }\n",
       "\n",
       "    .dataframe thead th {\n",
       "        text-align: right;\n",
       "    }\n",
       "</style>\n",
       "<table border=\"1\" class=\"dataframe\">\n",
       "  <thead>\n",
       "    <tr style=\"text-align: right;\">\n",
       "      <th></th>\n",
       "      <th>Marks</th>\n",
       "      <th>Grades</th>\n",
       "    </tr>\n",
       "  </thead>\n",
       "  <tbody>\n",
       "    <tr>\n",
       "      <th>A</th>\n",
       "      <td>65.0</td>\n",
       "      <td>4.0</td>\n",
       "    </tr>\n",
       "    <tr>\n",
       "      <th>B</th>\n",
       "      <td>67.0</td>\n",
       "      <td>3.5</td>\n",
       "    </tr>\n",
       "    <tr>\n",
       "      <th>C</th>\n",
       "      <td>89.0</td>\n",
       "      <td>3.0</td>\n",
       "    </tr>\n",
       "    <tr>\n",
       "      <th>D</th>\n",
       "      <td>NaN</td>\n",
       "      <td>2.5</td>\n",
       "    </tr>\n",
       "  </tbody>\n",
       "</table>\n",
       "</div>"
      ],
      "text/plain": [
       "   Marks  Grades\n",
       "A   65.0     4.0\n",
       "B   67.0     3.5\n",
       "C   89.0     3.0\n",
       "D    NaN     2.5"
      ]
     },
     "execution_count": 63,
     "metadata": {},
     "output_type": "execute_result"
    }
   ],
   "source": [
    "D"
   ]
  },
  {
   "cell_type": "code",
   "execution_count": 64,
   "id": "ea3b8fee",
   "metadata": {},
   "outputs": [
    {
     "data": {
      "text/plain": [
       "array([[65. ,  4. ],\n",
       "       [67. ,  3.5],\n",
       "       [89. ,  3. ],\n",
       "       [ nan,  2.5]])"
      ]
     },
     "execution_count": 64,
     "metadata": {},
     "output_type": "execute_result"
    }
   ],
   "source": [
    "D.values"
   ]
  },
  {
   "cell_type": "code",
   "execution_count": 68,
   "id": "ec4533b9",
   "metadata": {},
   "outputs": [
    {
     "data": {
      "text/plain": [
       "89.0"
      ]
     },
     "execution_count": 68,
     "metadata": {},
     "output_type": "execute_result"
    }
   ],
   "source": [
    "D.values[2,0]"
   ]
  },
  {
   "cell_type": "code",
   "execution_count": 71,
   "id": "49803086",
   "metadata": {},
   "outputs": [
    {
     "data": {
      "text/plain": [
       "67.0"
      ]
     },
     "execution_count": 71,
     "metadata": {},
     "output_type": "execute_result"
    }
   ],
   "source": [
    "D.values[1,0]"
   ]
  },
  {
   "cell_type": "code",
   "execution_count": 72,
   "id": "3eab8758",
   "metadata": {},
   "outputs": [
    {
     "data": {
      "text/plain": [
       "65.0"
      ]
     },
     "execution_count": 72,
     "metadata": {},
     "output_type": "execute_result"
    }
   ],
   "source": [
    "D.values[0,0]"
   ]
  },
  {
   "cell_type": "code",
   "execution_count": 73,
   "id": "068b6b9c",
   "metadata": {},
   "outputs": [
    {
     "data": {
      "text/plain": [
       "Index(['Marks', 'Grades'], dtype='object')"
      ]
     },
     "execution_count": 73,
     "metadata": {},
     "output_type": "execute_result"
    }
   ],
   "source": [
    "D.columns"
   ]
  },
  {
   "cell_type": "code",
   "execution_count": 74,
   "id": "3ffc9ac2",
   "metadata": {},
   "outputs": [
    {
     "data": {
      "text/html": [
       "<div>\n",
       "<style scoped>\n",
       "    .dataframe tbody tr th:only-of-type {\n",
       "        vertical-align: middle;\n",
       "    }\n",
       "\n",
       "    .dataframe tbody tr th {\n",
       "        vertical-align: top;\n",
       "    }\n",
       "\n",
       "    .dataframe thead th {\n",
       "        text-align: right;\n",
       "    }\n",
       "</style>\n",
       "<table border=\"1\" class=\"dataframe\">\n",
       "  <thead>\n",
       "    <tr style=\"text-align: right;\">\n",
       "      <th></th>\n",
       "      <th>Marks</th>\n",
       "      <th>Grades</th>\n",
       "    </tr>\n",
       "  </thead>\n",
       "  <tbody>\n",
       "    <tr>\n",
       "      <th>A</th>\n",
       "      <td>65.0</td>\n",
       "      <td>4.0</td>\n",
       "    </tr>\n",
       "    <tr>\n",
       "      <th>B</th>\n",
       "      <td>67.0</td>\n",
       "      <td>3.5</td>\n",
       "    </tr>\n",
       "    <tr>\n",
       "      <th>C</th>\n",
       "      <td>89.0</td>\n",
       "      <td>3.0</td>\n",
       "    </tr>\n",
       "    <tr>\n",
       "      <th>D</th>\n",
       "      <td>NaN</td>\n",
       "      <td>2.5</td>\n",
       "    </tr>\n",
       "  </tbody>\n",
       "</table>\n",
       "</div>"
      ],
      "text/plain": [
       "   Marks  Grades\n",
       "A   65.0     4.0\n",
       "B   67.0     3.5\n",
       "C   89.0     3.0\n",
       "D    NaN     2.5"
      ]
     },
     "execution_count": 74,
     "metadata": {},
     "output_type": "execute_result"
    }
   ],
   "source": [
    "D"
   ]
  },
  {
   "cell_type": "code",
   "execution_count": 79,
   "id": "e5c33a79",
   "metadata": {},
   "outputs": [],
   "source": [
    "D['ScaledMarks'] = 100*(D['Marks']/90)"
   ]
  },
  {
   "cell_type": "code",
   "execution_count": 80,
   "id": "763a668c",
   "metadata": {},
   "outputs": [
    {
     "data": {
      "text/html": [
       "<div>\n",
       "<style scoped>\n",
       "    .dataframe tbody tr th:only-of-type {\n",
       "        vertical-align: middle;\n",
       "    }\n",
       "\n",
       "    .dataframe tbody tr th {\n",
       "        vertical-align: top;\n",
       "    }\n",
       "\n",
       "    .dataframe thead th {\n",
       "        text-align: right;\n",
       "    }\n",
       "</style>\n",
       "<table border=\"1\" class=\"dataframe\">\n",
       "  <thead>\n",
       "    <tr style=\"text-align: right;\">\n",
       "      <th></th>\n",
       "      <th>Marks</th>\n",
       "      <th>Grades</th>\n",
       "      <th>ScaledMarks</th>\n",
       "    </tr>\n",
       "  </thead>\n",
       "  <tbody>\n",
       "    <tr>\n",
       "      <th>A</th>\n",
       "      <td>65.0</td>\n",
       "      <td>4.0</td>\n",
       "      <td>72.222222</td>\n",
       "    </tr>\n",
       "    <tr>\n",
       "      <th>B</th>\n",
       "      <td>67.0</td>\n",
       "      <td>3.5</td>\n",
       "      <td>74.444444</td>\n",
       "    </tr>\n",
       "    <tr>\n",
       "      <th>C</th>\n",
       "      <td>89.0</td>\n",
       "      <td>3.0</td>\n",
       "      <td>98.888889</td>\n",
       "    </tr>\n",
       "    <tr>\n",
       "      <th>D</th>\n",
       "      <td>NaN</td>\n",
       "      <td>2.5</td>\n",
       "      <td>NaN</td>\n",
       "    </tr>\n",
       "  </tbody>\n",
       "</table>\n",
       "</div>"
      ],
      "text/plain": [
       "   Marks  Grades  ScaledMarks\n",
       "A   65.0     4.0    72.222222\n",
       "B   67.0     3.5    74.444444\n",
       "C   89.0     3.0    98.888889\n",
       "D    NaN     2.5          NaN"
      ]
     },
     "execution_count": 80,
     "metadata": {},
     "output_type": "execute_result"
    }
   ],
   "source": [
    "D"
   ]
  },
  {
   "cell_type": "code",
   "execution_count": 88,
   "id": "20e281c6",
   "metadata": {},
   "outputs": [
    {
     "data": {
      "text/html": [
       "<div>\n",
       "<style scoped>\n",
       "    .dataframe tbody tr th:only-of-type {\n",
       "        vertical-align: middle;\n",
       "    }\n",
       "\n",
       "    .dataframe tbody tr th {\n",
       "        vertical-align: top;\n",
       "    }\n",
       "\n",
       "    .dataframe thead th {\n",
       "        text-align: right;\n",
       "    }\n",
       "</style>\n",
       "<table border=\"1\" class=\"dataframe\">\n",
       "  <thead>\n",
       "    <tr style=\"text-align: right;\">\n",
       "      <th></th>\n",
       "      <th>Marks</th>\n",
       "      <th>Grades</th>\n",
       "    </tr>\n",
       "  </thead>\n",
       "  <tbody>\n",
       "    <tr>\n",
       "      <th>A</th>\n",
       "      <td>65.0</td>\n",
       "      <td>4.0</td>\n",
       "    </tr>\n",
       "    <tr>\n",
       "      <th>B</th>\n",
       "      <td>67.0</td>\n",
       "      <td>3.5</td>\n",
       "    </tr>\n",
       "    <tr>\n",
       "      <th>C</th>\n",
       "      <td>89.0</td>\n",
       "      <td>3.0</td>\n",
       "    </tr>\n",
       "    <tr>\n",
       "      <th>D</th>\n",
       "      <td>NaN</td>\n",
       "      <td>2.5</td>\n",
       "    </tr>\n",
       "  </tbody>\n",
       "</table>\n",
       "</div>"
      ],
      "text/plain": [
       "   Marks  Grades\n",
       "A   65.0     4.0\n",
       "B   67.0     3.5\n",
       "C   89.0     3.0\n",
       "D    NaN     2.5"
      ]
     },
     "execution_count": 88,
     "metadata": {},
     "output_type": "execute_result"
    }
   ],
   "source": [
    "D        #already deleted scaled marks"
   ]
  },
  {
   "cell_type": "code",
   "execution_count": 89,
   "id": "5dd8f0d8",
   "metadata": {},
   "outputs": [],
   "source": [
    "G = D[D['Marks']>70]"
   ]
  },
  {
   "cell_type": "code",
   "execution_count": 90,
   "id": "8fb67193",
   "metadata": {},
   "outputs": [
    {
     "data": {
      "text/html": [
       "<div>\n",
       "<style scoped>\n",
       "    .dataframe tbody tr th:only-of-type {\n",
       "        vertical-align: middle;\n",
       "    }\n",
       "\n",
       "    .dataframe tbody tr th {\n",
       "        vertical-align: top;\n",
       "    }\n",
       "\n",
       "    .dataframe thead th {\n",
       "        text-align: right;\n",
       "    }\n",
       "</style>\n",
       "<table border=\"1\" class=\"dataframe\">\n",
       "  <thead>\n",
       "    <tr style=\"text-align: right;\">\n",
       "      <th></th>\n",
       "      <th>Marks</th>\n",
       "      <th>Grades</th>\n",
       "    </tr>\n",
       "  </thead>\n",
       "  <tbody>\n",
       "    <tr>\n",
       "      <th>C</th>\n",
       "      <td>89.0</td>\n",
       "      <td>3.0</td>\n",
       "    </tr>\n",
       "  </tbody>\n",
       "</table>\n",
       "</div>"
      ],
      "text/plain": [
       "   Marks  Grades\n",
       "C   89.0     3.0"
      ]
     },
     "execution_count": 90,
     "metadata": {},
     "output_type": "execute_result"
    }
   ],
   "source": [
    "G"
   ]
  },
  {
   "cell_type": "code",
   "execution_count": 94,
   "id": "fb41dd8e",
   "metadata": {},
   "outputs": [],
   "source": [
    "A = pd.DataFrame([{'a':1, 'b':4}, {'b':3, 'c':9}])"
   ]
  },
  {
   "cell_type": "code",
   "execution_count": 95,
   "id": "d97d67e4",
   "metadata": {},
   "outputs": [
    {
     "data": {
      "text/html": [
       "<div>\n",
       "<style scoped>\n",
       "    .dataframe tbody tr th:only-of-type {\n",
       "        vertical-align: middle;\n",
       "    }\n",
       "\n",
       "    .dataframe tbody tr th {\n",
       "        vertical-align: top;\n",
       "    }\n",
       "\n",
       "    .dataframe thead th {\n",
       "        text-align: right;\n",
       "    }\n",
       "</style>\n",
       "<table border=\"1\" class=\"dataframe\">\n",
       "  <thead>\n",
       "    <tr style=\"text-align: right;\">\n",
       "      <th></th>\n",
       "      <th>a</th>\n",
       "      <th>b</th>\n",
       "      <th>c</th>\n",
       "    </tr>\n",
       "  </thead>\n",
       "  <tbody>\n",
       "    <tr>\n",
       "      <th>0</th>\n",
       "      <td>1.0</td>\n",
       "      <td>4</td>\n",
       "      <td>NaN</td>\n",
       "    </tr>\n",
       "    <tr>\n",
       "      <th>1</th>\n",
       "      <td>NaN</td>\n",
       "      <td>3</td>\n",
       "      <td>9.0</td>\n",
       "    </tr>\n",
       "  </tbody>\n",
       "</table>\n",
       "</div>"
      ],
      "text/plain": [
       "     a  b    c\n",
       "0  1.0  4  NaN\n",
       "1  NaN  3  9.0"
      ]
     },
     "execution_count": 95,
     "metadata": {},
     "output_type": "execute_result"
    }
   ],
   "source": [
    "A"
   ]
  },
  {
   "cell_type": "code",
   "execution_count": 97,
   "id": "50f9122f",
   "metadata": {},
   "outputs": [
    {
     "data": {
      "text/html": [
       "<div>\n",
       "<style scoped>\n",
       "    .dataframe tbody tr th:only-of-type {\n",
       "        vertical-align: middle;\n",
       "    }\n",
       "\n",
       "    .dataframe tbody tr th {\n",
       "        vertical-align: top;\n",
       "    }\n",
       "\n",
       "    .dataframe thead th {\n",
       "        text-align: right;\n",
       "    }\n",
       "</style>\n",
       "<table border=\"1\" class=\"dataframe\">\n",
       "  <thead>\n",
       "    <tr style=\"text-align: right;\">\n",
       "      <th></th>\n",
       "      <th>a</th>\n",
       "      <th>b</th>\n",
       "      <th>c</th>\n",
       "    </tr>\n",
       "  </thead>\n",
       "  <tbody>\n",
       "    <tr>\n",
       "      <th>0</th>\n",
       "      <td>1.0</td>\n",
       "      <td>4</td>\n",
       "      <td>0.0</td>\n",
       "    </tr>\n",
       "    <tr>\n",
       "      <th>1</th>\n",
       "      <td>0.0</td>\n",
       "      <td>3</td>\n",
       "      <td>9.0</td>\n",
       "    </tr>\n",
       "  </tbody>\n",
       "</table>\n",
       "</div>"
      ],
      "text/plain": [
       "     a  b    c\n",
       "0  1.0  4  0.0\n",
       "1  0.0  3  9.0"
      ]
     },
     "execution_count": 97,
     "metadata": {},
     "output_type": "execute_result"
    }
   ],
   "source": [
    "A.fillna(0)   #fill missing values with 0"
   ]
  },
  {
   "cell_type": "code",
   "execution_count": 98,
   "id": "e95f8650",
   "metadata": {},
   "outputs": [],
   "source": [
    "A =pd.Series(['a','b','c'], index =[1,3,5])"
   ]
  },
  {
   "cell_type": "code",
   "execution_count": 100,
   "id": "1b5e1756",
   "metadata": {},
   "outputs": [
    {
     "data": {
      "text/plain": [
       "'a'"
      ]
     },
     "execution_count": 100,
     "metadata": {},
     "output_type": "execute_result"
    }
   ],
   "source": [
    "A[1]     #explicit index"
   ]
  },
  {
   "cell_type": "code",
   "execution_count": 101,
   "id": "4795d8c2",
   "metadata": {},
   "outputs": [
    {
     "data": {
      "text/plain": [
       "3    b\n",
       "5    c\n",
       "dtype: object"
      ]
     },
     "execution_count": 101,
     "metadata": {},
     "output_type": "execute_result"
    }
   ],
   "source": [
    "A[1:3]    #inplicit index"
   ]
  },
  {
   "cell_type": "code",
   "execution_count": 102,
   "id": "ef69aa22",
   "metadata": {},
   "outputs": [
    {
     "data": {
      "text/plain": [
       "1    a\n",
       "3    b\n",
       "dtype: object"
      ]
     },
     "execution_count": 102,
     "metadata": {},
     "output_type": "execute_result"
    }
   ],
   "source": [
    "A.loc[1:3]    #use loc for explicit index and its starts from 1"
   ]
  },
  {
   "cell_type": "code",
   "execution_count": 104,
   "id": "00c58f65",
   "metadata": {},
   "outputs": [
    {
     "data": {
      "text/plain": [
       "3    b\n",
       "5    c\n",
       "dtype: object"
      ]
     },
     "execution_count": 104,
     "metadata": {},
     "output_type": "execute_result"
    }
   ],
   "source": [
    "A.iloc[1:3]    #use iloc for inplicit index and it starts from 0"
   ]
  },
  {
   "cell_type": "code",
   "execution_count": 105,
   "id": "efd057c9",
   "metadata": {
    "scrolled": true
   },
   "outputs": [
    {
     "data": {
      "text/html": [
       "<div>\n",
       "<style scoped>\n",
       "    .dataframe tbody tr th:only-of-type {\n",
       "        vertical-align: middle;\n",
       "    }\n",
       "\n",
       "    .dataframe tbody tr th {\n",
       "        vertical-align: top;\n",
       "    }\n",
       "\n",
       "    .dataframe thead th {\n",
       "        text-align: right;\n",
       "    }\n",
       "</style>\n",
       "<table border=\"1\" class=\"dataframe\">\n",
       "  <thead>\n",
       "    <tr style=\"text-align: right;\">\n",
       "      <th></th>\n",
       "      <th>Marks</th>\n",
       "      <th>Grades</th>\n",
       "    </tr>\n",
       "  </thead>\n",
       "  <tbody>\n",
       "    <tr>\n",
       "      <th>A</th>\n",
       "      <td>65.0</td>\n",
       "      <td>4.0</td>\n",
       "    </tr>\n",
       "    <tr>\n",
       "      <th>B</th>\n",
       "      <td>67.0</td>\n",
       "      <td>3.5</td>\n",
       "    </tr>\n",
       "    <tr>\n",
       "      <th>C</th>\n",
       "      <td>89.0</td>\n",
       "      <td>3.0</td>\n",
       "    </tr>\n",
       "    <tr>\n",
       "      <th>D</th>\n",
       "      <td>NaN</td>\n",
       "      <td>2.5</td>\n",
       "    </tr>\n",
       "  </tbody>\n",
       "</table>\n",
       "</div>"
      ],
      "text/plain": [
       "   Marks  Grades\n",
       "A   65.0     4.0\n",
       "B   67.0     3.5\n",
       "C   89.0     3.0\n",
       "D    NaN     2.5"
      ]
     },
     "execution_count": 105,
     "metadata": {},
     "output_type": "execute_result"
    }
   ],
   "source": [
    "D"
   ]
  },
  {
   "cell_type": "code",
   "execution_count": 6,
   "id": "5ec83631",
   "metadata": {},
   "outputs": [],
   "source": [
    "import matplotlib.pyplot as plt"
   ]
  },
  {
   "cell_type": "code",
   "execution_count": 7,
   "id": "c435f0c9",
   "metadata": {},
   "outputs": [
    {
     "data": {
      "text/plain": [
       "[<matplotlib.lines.Line2D at 0x18b7a030ac0>]"
      ]
     },
     "execution_count": 7,
     "metadata": {},
     "output_type": "execute_result"
    },
    {
     "data": {
      "image/png": "[encoded data removed]",
      "text/plain": [
       "<Figure size 640x480 with 1 Axes>"
      ]
     },
     "metadata": {},
     "output_type": "display_data"
    }
   ],
   "source": [
    "x = np.linspace(0,10,1000)\n",
    "y = np.sin(x)\n",
    "plt.plot(x,y)"
   ]
  },
  {
   "cell_type": "code",
   "execution_count": 11,
   "id": "dd5d55ed",
   "metadata": {},
   "outputs": [
    {
     "data": {
      "text/plain": [
       "<matplotlib.collections.PathCollection at 0x18b7acac3a0>"
      ]
     },
     "execution_count": 11,
     "metadata": {},
     "output_type": "execute_result"
    },
    {
     "data": {
      "image/png": "[encoded data removed]",
      "text/plain": [
       "<Figure size 640x480 with 1 Axes>"
      ]
     },
     "metadata": {},
     "output_type": "display_data"
    }
   ],
   "source": [
    "plt.scatter(x[:30],y[:30])"
   ]
  },
  {
   "cell_type": "code",
   "execution_count": 15,
   "id": "61247d6c",
   "metadata": {},
   "outputs": [
    {
     "data": {
      "text/plain": [
       "<matplotlib.collections.PathCollection at 0x18b7ab8c700>"
      ]
     },
     "execution_count": 15,
     "metadata": {},
     "output_type": "execute_result"
    },
    {
     "data": {
      "image/png": "[encoded data removed]",
      "text/plain": [
       "<Figure size 640x480 with 1 Axes>"
      ]
     },
     "metadata": {},
     "output_type": "display_data"
    }
   ],
   "source": [
    "plt.scatter(x[::10],y[::10],color= 'purple')"
   ]
  },
  {
   "cell_type": "code",
   "execution_count": 17,
   "id": "62e99f67",
   "metadata": {},
   "outputs": [
    {
     "data": {
      "text/plain": [
       "[<matplotlib.lines.Line2D at 0x18b7a86b790>]"
      ]
     },
     "execution_count": 17,
     "metadata": {},
     "output_type": "execute_result"
    },
    {
     "data": {
      "image/png": "[encoded data removed]",
      "text/plain": [
       "<Figure size 640x480 with 1 Axes>"
      ]
     },
     "metadata": {},
     "output_type": "display_data"
    }
   ],
   "source": [
    "plt.plot(x,y,color='b')\n",
    "plt.plot(x,np.cos(x),color='g')"
   ]
  },
  {
   "cell_type": "code",
   "execution_count": null,
   "id": "c456bc00",
   "metadata": {},
   "outputs": [],
   "source": []
  }
 ],
 "metadata": {
  "kernelspec": {
   "display_name": "Python 3 (ipykernel)",
   "language": "python",
   "name": "python3"
  },
  "language_info": {
   "codemirror_mode": {
    "name": "ipython",
    "version": 3
   },
   "file_extension": ".py",
   "mimetype": "text/x-python",
   "name": "python",
   "nbconvert_exporter": "python",
   "pygments_lexer": "ipython3",
   "version": "3.10.9"
  }
 },
 "nbformat": 4,
 "nbformat_minor": 5
}
